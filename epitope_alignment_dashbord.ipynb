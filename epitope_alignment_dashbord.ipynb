{
 "cells": [
  {
   "cell_type": "code",
   "execution_count": 1,
   "id": "25a95a58-d33d-4efd-9286-19af683e3618",
   "metadata": {},
   "outputs": [],
   "source": [
    "import Analyze_kmulti_align as aka\n",
    "import pandas as pd\n",
    "import matplotlib.pyplot as plt\n",
    "import numpy as np\n",
    "import plotly.express as px"
   ]
  },
  {
   "cell_type": "code",
   "execution_count": 2,
   "id": "09a4ba9a-4347-4659-b8bb-a53b1613510e",
   "metadata": {},
   "outputs": [],
   "source": [
    "path_file = \"/home/dante/Julianne/antigens/kpax_results/5KAQ_B/5KAQ_B.kmulti\" #25 structures\n",
    "#path_file = \"/home/dante/Julianne/antigens/kpax_results/4FQI_B/4FQI_B.kmulti\" #VH1-69 Group 1\n",
    "#path_file = \"/home/dante/Julianne/antigens/kpax_results/5K9Q_B/5K9Q_B.kmulti\" #VH1-18 Group 2\n",
    "\n",
    "obj = aka.AnalyzeKmulti()\n",
    "obj.load_alignment(path_file)"
   ]
  },
  {
   "cell_type": "code",
   "execution_count": 10,
   "id": "9c073754-9cc6-4608-ab7d-566c7c1c1f36",
   "metadata": {},
   "outputs": [
    {
     "data": {
      "text/html": [
       "<h2> List of structures </h2> <table> <tr> <td> ID </td> <td> PDB</td> <td> Chain </td> </tr><tr> <td> 0 </td> <td> 5KAQ </td> <td> B </td> </tr> <tr> <td> 1 </td> <td> 4UBD </td> <td> B </td> </tr> <tr> <td> 2 </td> <td> 5K9Q </td> <td> B </td> </tr> <tr> <td> 3 </td> <td> 3ZTJ </td> <td> F </td> </tr> <tr> <td> 4 </td> <td> 3ZTJ </td> <td> B </td> </tr> <tr> <td> 5 </td> <td> 5KAN </td> <td> B </td> </tr> <tr> <td> 6 </td> <td> 3ZTJ </td> <td> D </td> </tr> <tr> <td> 7 </td> <td> 4KVN </td> <td> A </td> </tr> <tr> <td> 8 </td> <td> 5JW4 </td> <td> H </td> </tr> <tr> <td> 9 </td> <td> 5WKO </td> <td> X </td> </tr> <tr> <td> 10 </td> <td> 5JW4 </td> <td> D </td> </tr> <tr> <td> 11 </td> <td> 5JW4 </td> <td> F </td> </tr> <tr> <td> 12 </td> <td> 5JW4 </td> <td> J </td> </tr> <tr> <td> 13 </td> <td> 5JW4 </td> <td> L </td> </tr> <tr> <td> 14 </td> <td> 5JW4 </td> <td> B </td> </tr> <tr> <td> 15 </td> <td> 3GBN </td> <td> B </td> </tr> <tr> <td> 16 </td> <td> 3FKU </td> <td> J </td> </tr> <tr> <td> 17 </td> <td> 3FKU </td> <td> L </td> </tr> <tr> <td> 18 </td> <td> 3FKU </td> <td> H </td> </tr> <tr> <td> 19 </td> <td> 4FQI </td> <td> B </td> </tr> <tr> <td> 20 </td> <td> 3FKU </td> <td> F </td> </tr> <tr> <td> 21 </td> <td> 3FKU </td> <td> D </td> </tr> <tr> <td> 22 </td> <td> 3FKU </td> <td> B </td> </tr> <tr> <td> 23 </td> <td> 5K9O </td> <td> I </td> </tr> <tr> <td> 24 </td> <td> 5WKO </td> <td> B </td> </tr> <tr> <td> 25 </td> <td> 5JW5 </td> <td> A </td> </tr> </table>"
      ],
      "text/plain": [
       "<IPython.core.display.HTML object>"
      ]
     },
     "metadata": {},
     "output_type": "display_data"
    }
   ],
   "source": [
    "from IPython.display import HTML, display\n",
    "strtext = \"<h2> List of structures </h2> <table> \"\n",
    "strtext += \"<tr> <td> ID </td> <td> PDB</td> <td> Chain </td> </tr>\"\n",
    "for i,pdb_list in enumerate(obj.annotated_alignment.pdbs):\n",
    "    strtext += f\"<tr> <td> {i} </td> <td> {pdb_list['pdb_id']} </td> <td> {pdb_list['chain']} </td> </tr> \"\n",
    "strtext += \"</table>\"\n",
    "\n",
    "display(HTML(strtext))"
   ]
  },
  {
   "cell_type": "code",
   "execution_count": 4,
   "id": "ed04a822-8bce-4a64-b931-648fe6f7c7c3",
   "metadata": {},
   "outputs": [],
   "source": [
    "obj.calculate_conservation()"
   ]
  },
  {
   "cell_type": "code",
   "execution_count": 5,
   "id": "8c35bed0-26a0-4dc0-b669-ba79efe30b55",
   "metadata": {},
   "outputs": [],
   "source": [
    "vanderwall = []\n",
    "hydrobond = []\n",
    "salt_bridge = []\n",
    "hydrophobic = []\n",
    "a_position = []\n",
    "for i,alignment in enumerate(obj.epitope_conservation_type_int):\n",
    "    \n",
    "    vanderwall.append(0)\n",
    "    hydrobond.append(0)\n",
    "    salt_bridge.append(0)\n",
    "    hydrophobic.append(0)\n",
    "    a_position.append(i)\n",
    "    \n",
    "    if len(alignment) > 0:\n",
    "        for key,num_int in alignment.items():\n",
    "            if key == \"Van-der-Waals\":\n",
    "                vanderwall[i] = num_int\n",
    "            elif key == \"Hydro-Bond\":\n",
    "                hydrobond[i] = num_int\n",
    "            elif key == \"Hydr-Phbc\":\n",
    "                hydrophobic[i] = num_int\n",
    "            elif key == \"Salt-Bridge\":\n",
    "                salt_bridge[i] = num_int"
   ]
  },
  {
   "cell_type": "code",
   "execution_count": 6,
   "id": "71c9fa44-a74c-4a65-8705-9841b0bfdbda",
   "metadata": {},
   "outputs": [],
   "source": [
    "ff = np.stack((np.array(a_position), np.array(vanderwall), \n",
    "               np.array(hydrobond), np.array(hydrophobic),\n",
    "               np.array(salt_bridge)), axis=-1)\n",
    "df =pd.DataFrame(ff)\n",
    "df.columns = [\"a_pos\", \"van_der_vall\", \"hydro\", \"hydrophobic\", \"salt_bridge\"]\n",
    "consensus_df =pd.DataFrame(obj.kmulti.consensus)\n",
    "consensus_df.insert(loc=0, column=\"a_pos\", value=consensus_df.index )"
   ]
  },
  {
   "cell_type": "code",
   "execution_count": 7,
   "id": "35e7dc96-d59e-45ce-b5bb-192f8cd24872",
   "metadata": {},
   "outputs": [
    {
     "data": {
      "text/html": [
       "<iframe\n",
       "    scrolling=\"no\"\n",
       "    width=\"100%\"\n",
       "    height=\"545px\"\n",
       "    src=\"iframe_figures/figure_7.html\"\n",
       "    frameborder=\"0\"\n",
       "    allowfullscreen\n",
       "></iframe>\n"
      ]
     },
     "metadata": {},
     "output_type": "display_data"
    }
   ],
   "source": [
    "fig = px.bar(df, x=\"a_pos\", y=[\"van_der_vall\", \"hydro\", \"hydrophobic\", \"salt_bridge\"], title=\"Epitope conservation\")\n",
    "fig.show(renderer=\"iframe\")"
   ]
  },
  {
   "cell_type": "code",
   "execution_count": 8,
   "id": "c514afb1-bb59-4816-87ea-1e0b046f9755",
   "metadata": {},
   "outputs": [
    {
     "data": {
      "text/html": [
       "<iframe\n",
       "    scrolling=\"no\"\n",
       "    width=\"100%\"\n",
       "    height=\"545px\"\n",
       "    src=\"iframe_figures/figure_8.html\"\n",
       "    frameborder=\"0\"\n",
       "    allowfullscreen\n",
       "></iframe>\n"
      ]
     },
     "metadata": {},
     "output_type": "display_data"
    }
   ],
   "source": [
    "fig = px.bar(consensus_df, x=\"a_pos\", y=[\"GLY\", \"ALA\", \"ASP\", \"THR\", \n",
    "                                         \"LEU\", \"ILE\",\"CYS\", \"PHE\",\"HIS\",\"TYR\",\n",
    "                                         \"VAL\", \"ASN\", \"PRO\", \"SER\", \"LYS\",\n",
    "                                         \"GLN\", \"GLU\", \"ARG\", \"TRP\", \"MET\"], title=\"Alignment consensus\")\n",
    "fig.show(renderer=\"iframe\")"
   ]
  }
 ],
 "metadata": {
  "kernelspec": {
   "display_name": "Python 3 (ipykernel)",
   "language": "python",
   "name": "python3"
  },
  "language_info": {
   "codemirror_mode": {
    "name": "ipython",
    "version": 3
   },
   "file_extension": ".py",
   "mimetype": "text/x-python",
   "name": "python",
   "nbconvert_exporter": "python",
   "pygments_lexer": "ipython3",
   "version": "3.8.10"
  }
 },
 "nbformat": 4,
 "nbformat_minor": 5
}
