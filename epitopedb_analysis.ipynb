{
 "cells": [
  {
   "cell_type": "markdown",
   "source": [
    "<h1>Analysis of epitope database</h1>"
   ],
   "metadata": {
    "collapsed": false
   }
  },
  {
   "cell_type": "markdown",
   "source": [
    "<h2> Number of unique molecule names </h2>"
   ],
   "metadata": {
    "collapsed": false
   }
  },
  {
   "cell_type": "code",
   "execution_count": 4,
   "outputs": [],
   "source": [
    "import DatabaseConnection as db\n",
    "import pandas as pd"
   ],
   "metadata": {
    "collapsed": false
   }
  },
  {
   "cell_type": "code",
   "execution_count": 17,
   "outputs": [
    {
     "data": {
      "text/plain": "                                             Mol_name  total\n0                                BETA-2-MICROGLOBULIN   1951\n1                                  SPIKE GLYCOPROTEIN   1014\n2                          CELLULAR TUMOR ANTIGEN P53    408\n3   HLA CLASS I HISTOCOMPATIBILITY ANTIGEN, A-2 AL...    402\n4                     HEAT SHOCK PROTEIN HSP 90-ALPHA    332\n..                                                ...    ...\n95                    RHO-ASSOCIATED PROTEIN KINASE 1     69\n96                           GALACTOSE-BINDING LECTIN     67\n97                               CARBONIC ANHYDRASE 9     66\n98                   SNACLEC RHODOCETIN SUBUNIT DELTA     66\n99                   SNACLEC RHODOCETIN SUBUNIT GAMMA     66\n\n[100 rows x 2 columns]",
      "text/html": "<div>\n<style scoped>\n    .dataframe tbody tr th:only-of-type {\n        vertical-align: middle;\n    }\n\n    .dataframe tbody tr th {\n        vertical-align: top;\n    }\n\n    .dataframe thead th {\n        text-align: right;\n    }\n</style>\n<table border=\"1\" class=\"dataframe\">\n  <thead>\n    <tr style=\"text-align: right;\">\n      <th></th>\n      <th>Mol_name</th>\n      <th>total</th>\n    </tr>\n  </thead>\n  <tbody>\n    <tr>\n      <th>0</th>\n      <td>BETA-2-MICROGLOBULIN</td>\n      <td>1951</td>\n    </tr>\n    <tr>\n      <th>1</th>\n      <td>SPIKE GLYCOPROTEIN</td>\n      <td>1014</td>\n    </tr>\n    <tr>\n      <th>2</th>\n      <td>CELLULAR TUMOR ANTIGEN P53</td>\n      <td>408</td>\n    </tr>\n    <tr>\n      <th>3</th>\n      <td>HLA CLASS I HISTOCOMPATIBILITY ANTIGEN, A-2 AL...</td>\n      <td>402</td>\n    </tr>\n    <tr>\n      <th>4</th>\n      <td>HEAT SHOCK PROTEIN HSP 90-ALPHA</td>\n      <td>332</td>\n    </tr>\n    <tr>\n      <th>...</th>\n      <td>...</td>\n      <td>...</td>\n    </tr>\n    <tr>\n      <th>95</th>\n      <td>RHO-ASSOCIATED PROTEIN KINASE 1</td>\n      <td>69</td>\n    </tr>\n    <tr>\n      <th>96</th>\n      <td>GALACTOSE-BINDING LECTIN</td>\n      <td>67</td>\n    </tr>\n    <tr>\n      <th>97</th>\n      <td>CARBONIC ANHYDRASE 9</td>\n      <td>66</td>\n    </tr>\n    <tr>\n      <th>98</th>\n      <td>SNACLEC RHODOCETIN SUBUNIT DELTA</td>\n      <td>66</td>\n    </tr>\n    <tr>\n      <th>99</th>\n      <td>SNACLEC RHODOCETIN SUBUNIT GAMMA</td>\n      <td>66</td>\n    </tr>\n  </tbody>\n</table>\n<p>100 rows × 2 columns</p>\n</div>"
     },
     "execution_count": 17,
     "metadata": {},
     "output_type": "execute_result"
    }
   ],
   "source": [
    "sql = \"\"\"SELECT Mol_name, count(Mol_name) as total\n",
    "FROM epitope_analyzer.PDB_Mol_Info\n",
    "GROUP BY Mol_name\n",
    "ORDER BY total desc\n",
    "LIMIT 100;\"\"\"\n",
    "data, titles = db.getDataFromAQuerry_descrip(sql)\n",
    "p_data = pd.DataFrame( data, columns=titles)\n",
    "p_data"
   ],
   "metadata": {
    "collapsed": false
   }
  },
  {
   "cell_type": "code",
   "execution_count": 18,
   "outputs": [
    {
     "data": {
      "application/vnd.plotly.v1+json": {
       "data": [
        {
         "alignmentgroup": "True",
         "hovertemplate": "Mol_name=%{x}<br>total=%{y}<extra></extra>",
         "legendgroup": "",
         "marker": {
          "color": "#636efa",
          "pattern": {
           "shape": ""
          }
         },
         "name": "",
         "offsetgroup": "",
         "orientation": "v",
         "showlegend": false,
         "textposition": "auto",
         "x": [
          "BETA-2-MICROGLOBULIN",
          "SPIKE GLYCOPROTEIN",
          "CELLULAR TUMOR ANTIGEN P53",
          "HLA CLASS I HISTOCOMPATIBILITY ANTIGEN, A-2 ALPHA CHAIN",
          "HEAT SHOCK PROTEIN HSP 90-ALPHA",
          "HEMAGGLUTININ",
          "FAB HEAVY CHAIN",
          "CAPSID PROTEIN",
          "FAB LIGHT CHAIN",
          "SPIKE PROTEIN S1",
          "CAMP-SPECIFIC 3,5-CYCLIC PHOSPHODIESTERASE 4D",
          "PROLIFERATING CELL NUCLEAR ANTIGEN",
          "MHC CLASS I ANTIGEN",
          "GTPASE HRAS",
          "IG GAMMA-1 CHAIN C REGION",
          "PROTEASOME SUBUNIT ALPHA TYPE-3",
          "PROTEASOME SUBUNIT BETA TYPE-7",
          "PROTEASOME SUBUNIT BETA TYPE-3",
          "PROTEASOME SUBUNIT ALPHA TYPE-4",
          "PROTEASOME SUBUNIT BETA TYPE-4",
          "PROTEASOME SUBUNIT ALPHA TYPE-5",
          "PROTEASOME SUBUNIT ALPHA TYPE-2",
          "PROTEASOME SUBUNIT BETA TYPE-1",
          "PROTEASOME SUBUNIT ALPHA TYPE-1",
          "PROTEASOME SUBUNIT ALPHA TYPE-6",
          "H-2 CLASS I HISTOCOMPATIBILITY ANTIGEN, D-B ALPHA CHAIN",
          "DIPEPTIDYL PEPTIDASE 4",
          "TYROSINE-PROTEIN KINASE BTK",
          "ENVELOPE GLYCOPROTEIN GP160",
          "PROTEASOME SUBUNIT BETA TYPE-2",
          "HLA CLASS II HISTOCOMPATIBILITY ANTIGEN, DR ALPHA CHAIN",
          "VP1",
          "HEAVY CHAIN",
          "CATHEPSIN S",
          "MACROPHAGE MIGRATION INHIBITORY FACTOR",
          "LIGHT CHAIN",
          "NUCLEAR RECEPTOR COACTIVATOR 1",
          "INTERLEUKIN-1 RECEPTOR-ASSOCIATED KINASE 4",
          "LYSOZYME C",
          "L-LACTATE DEHYDROGENASE A CHAIN",
          "HEMAGGLUTININ HA1 CHAIN",
          "GALECTIN-3",
          "CAPSID PROTEIN VP1",
          "PROBABLE PROTEASOME SUBUNIT ALPHA TYPE-7",
          "14-3-3 PROTEIN SIGMA",
          "MAJOR PRION PROTEIN",
          "INSULIN-DEGRADING ENZYME",
          "HEMAGGLUTININ HA2 CHAIN",
          "KINESIN-LIKE PROTEIN KIF11",
          "PROTEASOME SUBUNIT BETA TYPE-6",
          "CARBONIC ANHYDRASE 12",
          "PROTEASOME SUBUNIT BETA TYPE-5",
          "CYTOCHROME C OXIDASE SUBUNIT 2",
          "MAJOR HISTOCOMPATIBILITY COMPLEX CLASS I-RELATED GENE PROTEIN",
          "H-2 CLASS I HISTOCOMPATIBILITY ANTIGEN, K-B ALPHA CHAIN",
          "PROTECTIVE ANTIGEN",
          "CYTOCHROME C OXIDASE SUBUNIT 3",
          "CYTOCHROME C OXIDASE SUBUNIT 1",
          "PHOSPHATIDYLINOSITOL 3,4,5-TRISPHOSPHATE 5-PHOSPHATASE 1",
          "TYROSINE-PROTEIN KINASE ABL1",
          "TYROSINE-PROTEIN KINASE SYK",
          "ANTIGEN-PRESENTING GLYCOPROTEIN CD1D1",
          "ANGIOTENSIN-CONVERTING ENZYME",
          "HISTO-BLOOD GROUP ABO SYSTEM TRANSFERASE",
          "TRANSCRIPTION FACTOR P65",
          "",
          "NUCLEOPROTEIN",
          "LOW AFFINITY IMMUNOGLOBULIN EPSILON FC RECEPTOR",
          "UNCHARACTERIZED PROTEIN",
          "C-TYPE LECTIN DOMAIN FAMILY 4 MEMBER K",
          "BETA-2 MICROGLOBULIN",
          "ANTIBODY FAB FRAGMENT LIGHT CHAIN",
          "GTPASE KRAS",
          "ANTIBODY HEAVY CHAIN",
          "ENVELOPE GLYCOPROTEIN GP120",
          "ENVELOPE GLYCOPROTEIN GP41",
          "CYTOCHROME C OXIDASE SUBUNIT 6B1",
          "H(+)/CL(-) EXCHANGE TRANSPORTER CLCA",
          "ADP-RIBOSYL CYCLASE 1",
          "LECTIN",
          "ANTIBODY LIGHT CHAIN",
          "T-CELL SURFACE GLYCOPROTEIN CD4",
          "AGGLUTININ ALPHA CHAIN",
          "CYTOCHROME C OXIDASE SUBUNIT 6C",
          "RECEPTOR-INTERACTING SERINE/THREONINE-PROTEIN KINASE 2",
          "INTEGRIN ALPHA-2",
          "POLYMERASE COFACTOR VP35",
          "UBIQUITIN-CONJUGATING ENZYME E2 N",
          "TUMOR NECROSIS FACTOR",
          "LARGE T ANTIGEN",
          "PEPTIDYL-PROLYL CIS-TRANS ISOMERASE FKBP5",
          "TITIN",
          "ANTIBODY FAB FRAGMENT HEAVY CHAIN",
          "PROTEASOME SUBUNIT ALPHA TYPE-7",
          "IG EPSILON CHAIN C REGION",
          "RHO-ASSOCIATED PROTEIN KINASE 1",
          "GALACTOSE-BINDING LECTIN",
          "CARBONIC ANHYDRASE 9",
          "SNACLEC RHODOCETIN SUBUNIT DELTA",
          "SNACLEC RHODOCETIN SUBUNIT GAMMA"
         ],
         "xaxis": "x",
         "y": [
          1951,
          1014,
          408,
          402,
          332,
          320,
          313,
          298,
          298,
          295,
          270,
          260,
          236,
          222,
          204,
          196,
          188,
          182,
          182,
          182,
          182,
          182,
          182,
          182,
          182,
          171,
          166,
          146,
          140,
          140,
          135,
          132,
          131,
          129,
          126,
          126,
          123,
          122,
          119,
          116,
          115,
          113,
          113,
          112,
          111,
          108,
          107,
          107,
          106,
          102,
          100,
          98,
          98,
          97,
          95,
          95,
          94,
          94,
          93,
          92,
          92,
          91,
          86,
          86,
          86,
          84,
          84,
          83,
          83,
          82,
          82,
          81,
          81,
          78,
          78,
          78,
          78,
          78,
          78,
          77,
          77,
          77,
          77,
          76,
          76,
          75,
          74,
          74,
          73,
          73,
          73,
          72,
          71,
          70,
          70,
          69,
          67,
          66,
          66,
          66
         ],
         "yaxis": "y",
         "type": "bar"
        }
       ],
       "layout": {
        "template": {
         "data": {
          "histogram2dcontour": [
           {
            "type": "histogram2dcontour",
            "colorbar": {
             "outlinewidth": 0,
             "ticks": ""
            },
            "colorscale": [
             [
              0.0,
              "#0d0887"
             ],
             [
              0.1111111111111111,
              "#46039f"
             ],
             [
              0.2222222222222222,
              "#7201a8"
             ],
             [
              0.3333333333333333,
              "#9c179e"
             ],
             [
              0.4444444444444444,
              "#bd3786"
             ],
             [
              0.5555555555555556,
              "#d8576b"
             ],
             [
              0.6666666666666666,
              "#ed7953"
             ],
             [
              0.7777777777777778,
              "#fb9f3a"
             ],
             [
              0.8888888888888888,
              "#fdca26"
             ],
             [
              1.0,
              "#f0f921"
             ]
            ]
           }
          ],
          "choropleth": [
           {
            "type": "choropleth",
            "colorbar": {
             "outlinewidth": 0,
             "ticks": ""
            }
           }
          ],
          "histogram2d": [
           {
            "type": "histogram2d",
            "colorbar": {
             "outlinewidth": 0,
             "ticks": ""
            },
            "colorscale": [
             [
              0.0,
              "#0d0887"
             ],
             [
              0.1111111111111111,
              "#46039f"
             ],
             [
              0.2222222222222222,
              "#7201a8"
             ],
             [
              0.3333333333333333,
              "#9c179e"
             ],
             [
              0.4444444444444444,
              "#bd3786"
             ],
             [
              0.5555555555555556,
              "#d8576b"
             ],
             [
              0.6666666666666666,
              "#ed7953"
             ],
             [
              0.7777777777777778,
              "#fb9f3a"
             ],
             [
              0.8888888888888888,
              "#fdca26"
             ],
             [
              1.0,
              "#f0f921"
             ]
            ]
           }
          ],
          "heatmap": [
           {
            "type": "heatmap",
            "colorbar": {
             "outlinewidth": 0,
             "ticks": ""
            },
            "colorscale": [
             [
              0.0,
              "#0d0887"
             ],
             [
              0.1111111111111111,
              "#46039f"
             ],
             [
              0.2222222222222222,
              "#7201a8"
             ],
             [
              0.3333333333333333,
              "#9c179e"
             ],
             [
              0.4444444444444444,
              "#bd3786"
             ],
             [
              0.5555555555555556,
              "#d8576b"
             ],
             [
              0.6666666666666666,
              "#ed7953"
             ],
             [
              0.7777777777777778,
              "#fb9f3a"
             ],
             [
              0.8888888888888888,
              "#fdca26"
             ],
             [
              1.0,
              "#f0f921"
             ]
            ]
           }
          ],
          "heatmapgl": [
           {
            "type": "heatmapgl",
            "colorbar": {
             "outlinewidth": 0,
             "ticks": ""
            },
            "colorscale": [
             [
              0.0,
              "#0d0887"
             ],
             [
              0.1111111111111111,
              "#46039f"
             ],
             [
              0.2222222222222222,
              "#7201a8"
             ],
             [
              0.3333333333333333,
              "#9c179e"
             ],
             [
              0.4444444444444444,
              "#bd3786"
             ],
             [
              0.5555555555555556,
              "#d8576b"
             ],
             [
              0.6666666666666666,
              "#ed7953"
             ],
             [
              0.7777777777777778,
              "#fb9f3a"
             ],
             [
              0.8888888888888888,
              "#fdca26"
             ],
             [
              1.0,
              "#f0f921"
             ]
            ]
           }
          ],
          "contourcarpet": [
           {
            "type": "contourcarpet",
            "colorbar": {
             "outlinewidth": 0,
             "ticks": ""
            }
           }
          ],
          "contour": [
           {
            "type": "contour",
            "colorbar": {
             "outlinewidth": 0,
             "ticks": ""
            },
            "colorscale": [
             [
              0.0,
              "#0d0887"
             ],
             [
              0.1111111111111111,
              "#46039f"
             ],
             [
              0.2222222222222222,
              "#7201a8"
             ],
             [
              0.3333333333333333,
              "#9c179e"
             ],
             [
              0.4444444444444444,
              "#bd3786"
             ],
             [
              0.5555555555555556,
              "#d8576b"
             ],
             [
              0.6666666666666666,
              "#ed7953"
             ],
             [
              0.7777777777777778,
              "#fb9f3a"
             ],
             [
              0.8888888888888888,
              "#fdca26"
             ],
             [
              1.0,
              "#f0f921"
             ]
            ]
           }
          ],
          "surface": [
           {
            "type": "surface",
            "colorbar": {
             "outlinewidth": 0,
             "ticks": ""
            },
            "colorscale": [
             [
              0.0,
              "#0d0887"
             ],
             [
              0.1111111111111111,
              "#46039f"
             ],
             [
              0.2222222222222222,
              "#7201a8"
             ],
             [
              0.3333333333333333,
              "#9c179e"
             ],
             [
              0.4444444444444444,
              "#bd3786"
             ],
             [
              0.5555555555555556,
              "#d8576b"
             ],
             [
              0.6666666666666666,
              "#ed7953"
             ],
             [
              0.7777777777777778,
              "#fb9f3a"
             ],
             [
              0.8888888888888888,
              "#fdca26"
             ],
             [
              1.0,
              "#f0f921"
             ]
            ]
           }
          ],
          "mesh3d": [
           {
            "type": "mesh3d",
            "colorbar": {
             "outlinewidth": 0,
             "ticks": ""
            }
           }
          ],
          "scatter": [
           {
            "fillpattern": {
             "fillmode": "overlay",
             "size": 10,
             "solidity": 0.2
            },
            "type": "scatter"
           }
          ],
          "parcoords": [
           {
            "type": "parcoords",
            "line": {
             "colorbar": {
              "outlinewidth": 0,
              "ticks": ""
             }
            }
           }
          ],
          "scatterpolargl": [
           {
            "type": "scatterpolargl",
            "marker": {
             "colorbar": {
              "outlinewidth": 0,
              "ticks": ""
             }
            }
           }
          ],
          "bar": [
           {
            "error_x": {
             "color": "#2a3f5f"
            },
            "error_y": {
             "color": "#2a3f5f"
            },
            "marker": {
             "line": {
              "color": "#E5ECF6",
              "width": 0.5
             },
             "pattern": {
              "fillmode": "overlay",
              "size": 10,
              "solidity": 0.2
             }
            },
            "type": "bar"
           }
          ],
          "scattergeo": [
           {
            "type": "scattergeo",
            "marker": {
             "colorbar": {
              "outlinewidth": 0,
              "ticks": ""
             }
            }
           }
          ],
          "scatterpolar": [
           {
            "type": "scatterpolar",
            "marker": {
             "colorbar": {
              "outlinewidth": 0,
              "ticks": ""
             }
            }
           }
          ],
          "histogram": [
           {
            "marker": {
             "pattern": {
              "fillmode": "overlay",
              "size": 10,
              "solidity": 0.2
             }
            },
            "type": "histogram"
           }
          ],
          "scattergl": [
           {
            "type": "scattergl",
            "marker": {
             "colorbar": {
              "outlinewidth": 0,
              "ticks": ""
             }
            }
           }
          ],
          "scatter3d": [
           {
            "type": "scatter3d",
            "line": {
             "colorbar": {
              "outlinewidth": 0,
              "ticks": ""
             }
            },
            "marker": {
             "colorbar": {
              "outlinewidth": 0,
              "ticks": ""
             }
            }
           }
          ],
          "scattermapbox": [
           {
            "type": "scattermapbox",
            "marker": {
             "colorbar": {
              "outlinewidth": 0,
              "ticks": ""
             }
            }
           }
          ],
          "scatterternary": [
           {
            "type": "scatterternary",
            "marker": {
             "colorbar": {
              "outlinewidth": 0,
              "ticks": ""
             }
            }
           }
          ],
          "scattercarpet": [
           {
            "type": "scattercarpet",
            "marker": {
             "colorbar": {
              "outlinewidth": 0,
              "ticks": ""
             }
            }
           }
          ],
          "carpet": [
           {
            "aaxis": {
             "endlinecolor": "#2a3f5f",
             "gridcolor": "white",
             "linecolor": "white",
             "minorgridcolor": "white",
             "startlinecolor": "#2a3f5f"
            },
            "baxis": {
             "endlinecolor": "#2a3f5f",
             "gridcolor": "white",
             "linecolor": "white",
             "minorgridcolor": "white",
             "startlinecolor": "#2a3f5f"
            },
            "type": "carpet"
           }
          ],
          "table": [
           {
            "cells": {
             "fill": {
              "color": "#EBF0F8"
             },
             "line": {
              "color": "white"
             }
            },
            "header": {
             "fill": {
              "color": "#C8D4E3"
             },
             "line": {
              "color": "white"
             }
            },
            "type": "table"
           }
          ],
          "barpolar": [
           {
            "marker": {
             "line": {
              "color": "#E5ECF6",
              "width": 0.5
             },
             "pattern": {
              "fillmode": "overlay",
              "size": 10,
              "solidity": 0.2
             }
            },
            "type": "barpolar"
           }
          ],
          "pie": [
           {
            "automargin": true,
            "type": "pie"
           }
          ]
         },
         "layout": {
          "autotypenumbers": "strict",
          "colorway": [
           "#636efa",
           "#EF553B",
           "#00cc96",
           "#ab63fa",
           "#FFA15A",
           "#19d3f3",
           "#FF6692",
           "#B6E880",
           "#FF97FF",
           "#FECB52"
          ],
          "font": {
           "color": "#2a3f5f"
          },
          "hovermode": "closest",
          "hoverlabel": {
           "align": "left"
          },
          "paper_bgcolor": "white",
          "plot_bgcolor": "#E5ECF6",
          "polar": {
           "bgcolor": "#E5ECF6",
           "angularaxis": {
            "gridcolor": "white",
            "linecolor": "white",
            "ticks": ""
           },
           "radialaxis": {
            "gridcolor": "white",
            "linecolor": "white",
            "ticks": ""
           }
          },
          "ternary": {
           "bgcolor": "#E5ECF6",
           "aaxis": {
            "gridcolor": "white",
            "linecolor": "white",
            "ticks": ""
           },
           "baxis": {
            "gridcolor": "white",
            "linecolor": "white",
            "ticks": ""
           },
           "caxis": {
            "gridcolor": "white",
            "linecolor": "white",
            "ticks": ""
           }
          },
          "coloraxis": {
           "colorbar": {
            "outlinewidth": 0,
            "ticks": ""
           }
          },
          "colorscale": {
           "sequential": [
            [
             0.0,
             "#0d0887"
            ],
            [
             0.1111111111111111,
             "#46039f"
            ],
            [
             0.2222222222222222,
             "#7201a8"
            ],
            [
             0.3333333333333333,
             "#9c179e"
            ],
            [
             0.4444444444444444,
             "#bd3786"
            ],
            [
             0.5555555555555556,
             "#d8576b"
            ],
            [
             0.6666666666666666,
             "#ed7953"
            ],
            [
             0.7777777777777778,
             "#fb9f3a"
            ],
            [
             0.8888888888888888,
             "#fdca26"
            ],
            [
             1.0,
             "#f0f921"
            ]
           ],
           "sequentialminus": [
            [
             0.0,
             "#0d0887"
            ],
            [
             0.1111111111111111,
             "#46039f"
            ],
            [
             0.2222222222222222,
             "#7201a8"
            ],
            [
             0.3333333333333333,
             "#9c179e"
            ],
            [
             0.4444444444444444,
             "#bd3786"
            ],
            [
             0.5555555555555556,
             "#d8576b"
            ],
            [
             0.6666666666666666,
             "#ed7953"
            ],
            [
             0.7777777777777778,
             "#fb9f3a"
            ],
            [
             0.8888888888888888,
             "#fdca26"
            ],
            [
             1.0,
             "#f0f921"
            ]
           ],
           "diverging": [
            [
             0,
             "#8e0152"
            ],
            [
             0.1,
             "#c51b7d"
            ],
            [
             0.2,
             "#de77ae"
            ],
            [
             0.3,
             "#f1b6da"
            ],
            [
             0.4,
             "#fde0ef"
            ],
            [
             0.5,
             "#f7f7f7"
            ],
            [
             0.6,
             "#e6f5d0"
            ],
            [
             0.7,
             "#b8e186"
            ],
            [
             0.8,
             "#7fbc41"
            ],
            [
             0.9,
             "#4d9221"
            ],
            [
             1,
             "#276419"
            ]
           ]
          },
          "xaxis": {
           "gridcolor": "white",
           "linecolor": "white",
           "ticks": "",
           "title": {
            "standoff": 15
           },
           "zerolinecolor": "white",
           "automargin": true,
           "zerolinewidth": 2
          },
          "yaxis": {
           "gridcolor": "white",
           "linecolor": "white",
           "ticks": "",
           "title": {
            "standoff": 15
           },
           "zerolinecolor": "white",
           "automargin": true,
           "zerolinewidth": 2
          },
          "scene": {
           "xaxis": {
            "backgroundcolor": "#E5ECF6",
            "gridcolor": "white",
            "linecolor": "white",
            "showbackground": true,
            "ticks": "",
            "zerolinecolor": "white",
            "gridwidth": 2
           },
           "yaxis": {
            "backgroundcolor": "#E5ECF6",
            "gridcolor": "white",
            "linecolor": "white",
            "showbackground": true,
            "ticks": "",
            "zerolinecolor": "white",
            "gridwidth": 2
           },
           "zaxis": {
            "backgroundcolor": "#E5ECF6",
            "gridcolor": "white",
            "linecolor": "white",
            "showbackground": true,
            "ticks": "",
            "zerolinecolor": "white",
            "gridwidth": 2
           }
          },
          "shapedefaults": {
           "line": {
            "color": "#2a3f5f"
           }
          },
          "annotationdefaults": {
           "arrowcolor": "#2a3f5f",
           "arrowhead": 0,
           "arrowwidth": 1
          },
          "geo": {
           "bgcolor": "white",
           "landcolor": "#E5ECF6",
           "subunitcolor": "white",
           "showland": true,
           "showlakes": true,
           "lakecolor": "white"
          },
          "title": {
           "x": 0.05
          },
          "mapbox": {
           "style": "light"
          }
         }
        },
        "xaxis": {
         "anchor": "y",
         "domain": [
          0.0,
          1.0
         ],
         "title": {
          "text": "Mol_name"
         }
        },
        "yaxis": {
         "anchor": "x",
         "domain": [
          0.0,
          1.0
         ],
         "title": {
          "text": "total"
         }
        },
        "legend": {
         "tracegroupgap": 0
        },
        "margin": {
         "t": 60
        },
        "barmode": "relative"
       },
       "config": {
        "plotlyServerURL": "https://plotly.com"
       }
      },
      "text/html": "<div>                            <div id=\"5ba0db21-6528-4c1b-8e50-e6791ef33e6d\" class=\"plotly-graph-div\" style=\"height:525px; width:100%;\"></div>            <script type=\"text/javascript\">                require([\"plotly\"], function(Plotly) {                    window.PLOTLYENV=window.PLOTLYENV || {};                                    if (document.getElementById(\"5ba0db21-6528-4c1b-8e50-e6791ef33e6d\")) {                    Plotly.newPlot(                        \"5ba0db21-6528-4c1b-8e50-e6791ef33e6d\",                        [{\"alignmentgroup\":\"True\",\"hovertemplate\":\"Mol_name=%{x}<br>total=%{y}<extra></extra>\",\"legendgroup\":\"\",\"marker\":{\"color\":\"#636efa\",\"pattern\":{\"shape\":\"\"}},\"name\":\"\",\"offsetgroup\":\"\",\"orientation\":\"v\",\"showlegend\":false,\"textposition\":\"auto\",\"x\":[\"BETA-2-MICROGLOBULIN\",\"SPIKE GLYCOPROTEIN\",\"CELLULAR TUMOR ANTIGEN P53\",\"HLA CLASS I HISTOCOMPATIBILITY ANTIGEN, A-2 ALPHA CHAIN\",\"HEAT SHOCK PROTEIN HSP 90-ALPHA\",\"HEMAGGLUTININ\",\"FAB HEAVY CHAIN\",\"CAPSID PROTEIN\",\"FAB LIGHT CHAIN\",\"SPIKE PROTEIN S1\",\"CAMP-SPECIFIC 3,5-CYCLIC PHOSPHODIESTERASE 4D\",\"PROLIFERATING CELL NUCLEAR ANTIGEN\",\"MHC CLASS I ANTIGEN\",\"GTPASE HRAS\",\"IG GAMMA-1 CHAIN C REGION\",\"PROTEASOME SUBUNIT ALPHA TYPE-3\",\"PROTEASOME SUBUNIT BETA TYPE-7\",\"PROTEASOME SUBUNIT BETA TYPE-3\",\"PROTEASOME SUBUNIT ALPHA TYPE-4\",\"PROTEASOME SUBUNIT BETA TYPE-4\",\"PROTEASOME SUBUNIT ALPHA TYPE-5\",\"PROTEASOME SUBUNIT ALPHA TYPE-2\",\"PROTEASOME SUBUNIT BETA TYPE-1\",\"PROTEASOME SUBUNIT ALPHA TYPE-1\",\"PROTEASOME SUBUNIT ALPHA TYPE-6\",\"H-2 CLASS I HISTOCOMPATIBILITY ANTIGEN, D-B ALPHA CHAIN\",\"DIPEPTIDYL PEPTIDASE 4\",\"TYROSINE-PROTEIN KINASE BTK\",\"ENVELOPE GLYCOPROTEIN GP160\",\"PROTEASOME SUBUNIT BETA TYPE-2\",\"HLA CLASS II HISTOCOMPATIBILITY ANTIGEN, DR ALPHA CHAIN\",\"VP1\",\"HEAVY CHAIN\",\"CATHEPSIN S\",\"MACROPHAGE MIGRATION INHIBITORY FACTOR\",\"LIGHT CHAIN\",\"NUCLEAR RECEPTOR COACTIVATOR 1\",\"INTERLEUKIN-1 RECEPTOR-ASSOCIATED KINASE 4\",\"LYSOZYME C\",\"L-LACTATE DEHYDROGENASE A CHAIN\",\"HEMAGGLUTININ HA1 CHAIN\",\"GALECTIN-3\",\"CAPSID PROTEIN VP1\",\"PROBABLE PROTEASOME SUBUNIT ALPHA TYPE-7\",\"14-3-3 PROTEIN SIGMA\",\"MAJOR PRION PROTEIN\",\"INSULIN-DEGRADING ENZYME\",\"HEMAGGLUTININ HA2 CHAIN\",\"KINESIN-LIKE PROTEIN KIF11\",\"PROTEASOME SUBUNIT BETA TYPE-6\",\"CARBONIC ANHYDRASE 12\",\"PROTEASOME SUBUNIT BETA TYPE-5\",\"CYTOCHROME C OXIDASE SUBUNIT 2\",\"MAJOR HISTOCOMPATIBILITY COMPLEX CLASS I-RELATED GENE PROTEIN\",\"H-2 CLASS I HISTOCOMPATIBILITY ANTIGEN, K-B ALPHA CHAIN\",\"PROTECTIVE ANTIGEN\",\"CYTOCHROME C OXIDASE SUBUNIT 3\",\"CYTOCHROME C OXIDASE SUBUNIT 1\",\"PHOSPHATIDYLINOSITOL 3,4,5-TRISPHOSPHATE 5-PHOSPHATASE 1\",\"TYROSINE-PROTEIN KINASE ABL1\",\"TYROSINE-PROTEIN KINASE SYK\",\"ANTIGEN-PRESENTING GLYCOPROTEIN CD1D1\",\"ANGIOTENSIN-CONVERTING ENZYME\",\"HISTO-BLOOD GROUP ABO SYSTEM TRANSFERASE\",\"TRANSCRIPTION FACTOR P65\",\"\",\"NUCLEOPROTEIN\",\"LOW AFFINITY IMMUNOGLOBULIN EPSILON FC RECEPTOR\",\"UNCHARACTERIZED PROTEIN\",\"C-TYPE LECTIN DOMAIN FAMILY 4 MEMBER K\",\"BETA-2 MICROGLOBULIN\",\"ANTIBODY FAB FRAGMENT LIGHT CHAIN\",\"GTPASE KRAS\",\"ANTIBODY HEAVY CHAIN\",\"ENVELOPE GLYCOPROTEIN GP120\",\"ENVELOPE GLYCOPROTEIN GP41\",\"CYTOCHROME C OXIDASE SUBUNIT 6B1\",\"H(+)/CL(-) EXCHANGE TRANSPORTER CLCA\",\"ADP-RIBOSYL CYCLASE 1\",\"LECTIN\",\"ANTIBODY LIGHT CHAIN\",\"T-CELL SURFACE GLYCOPROTEIN CD4\",\"AGGLUTININ ALPHA CHAIN\",\"CYTOCHROME C OXIDASE SUBUNIT 6C\",\"RECEPTOR-INTERACTING SERINE/THREONINE-PROTEIN KINASE 2\",\"INTEGRIN ALPHA-2\",\"POLYMERASE COFACTOR VP35\",\"UBIQUITIN-CONJUGATING ENZYME E2 N\",\"TUMOR NECROSIS FACTOR\",\"LARGE T ANTIGEN\",\"PEPTIDYL-PROLYL CIS-TRANS ISOMERASE FKBP5\",\"TITIN\",\"ANTIBODY FAB FRAGMENT HEAVY CHAIN\",\"PROTEASOME SUBUNIT ALPHA TYPE-7\",\"IG EPSILON CHAIN C REGION\",\"RHO-ASSOCIATED PROTEIN KINASE 1\",\"GALACTOSE-BINDING LECTIN\",\"CARBONIC ANHYDRASE 9\",\"SNACLEC RHODOCETIN SUBUNIT DELTA\",\"SNACLEC RHODOCETIN SUBUNIT GAMMA\"],\"xaxis\":\"x\",\"y\":[1951,1014,408,402,332,320,313,298,298,295,270,260,236,222,204,196,188,182,182,182,182,182,182,182,182,171,166,146,140,140,135,132,131,129,126,126,123,122,119,116,115,113,113,112,111,108,107,107,106,102,100,98,98,97,95,95,94,94,93,92,92,91,86,86,86,84,84,83,83,82,82,81,81,78,78,78,78,78,78,77,77,77,77,76,76,75,74,74,73,73,73,72,71,70,70,69,67,66,66,66],\"yaxis\":\"y\",\"type\":\"bar\"}],                        {\"template\":{\"data\":{\"histogram2dcontour\":[{\"type\":\"histogram2dcontour\",\"colorbar\":{\"outlinewidth\":0,\"ticks\":\"\"},\"colorscale\":[[0.0,\"#0d0887\"],[0.1111111111111111,\"#46039f\"],[0.2222222222222222,\"#7201a8\"],[0.3333333333333333,\"#9c179e\"],[0.4444444444444444,\"#bd3786\"],[0.5555555555555556,\"#d8576b\"],[0.6666666666666666,\"#ed7953\"],[0.7777777777777778,\"#fb9f3a\"],[0.8888888888888888,\"#fdca26\"],[1.0,\"#f0f921\"]]}],\"choropleth\":[{\"type\":\"choropleth\",\"colorbar\":{\"outlinewidth\":0,\"ticks\":\"\"}}],\"histogram2d\":[{\"type\":\"histogram2d\",\"colorbar\":{\"outlinewidth\":0,\"ticks\":\"\"},\"colorscale\":[[0.0,\"#0d0887\"],[0.1111111111111111,\"#46039f\"],[0.2222222222222222,\"#7201a8\"],[0.3333333333333333,\"#9c179e\"],[0.4444444444444444,\"#bd3786\"],[0.5555555555555556,\"#d8576b\"],[0.6666666666666666,\"#ed7953\"],[0.7777777777777778,\"#fb9f3a\"],[0.8888888888888888,\"#fdca26\"],[1.0,\"#f0f921\"]]}],\"heatmap\":[{\"type\":\"heatmap\",\"colorbar\":{\"outlinewidth\":0,\"ticks\":\"\"},\"colorscale\":[[0.0,\"#0d0887\"],[0.1111111111111111,\"#46039f\"],[0.2222222222222222,\"#7201a8\"],[0.3333333333333333,\"#9c179e\"],[0.4444444444444444,\"#bd3786\"],[0.5555555555555556,\"#d8576b\"],[0.6666666666666666,\"#ed7953\"],[0.7777777777777778,\"#fb9f3a\"],[0.8888888888888888,\"#fdca26\"],[1.0,\"#f0f921\"]]}],\"heatmapgl\":[{\"type\":\"heatmapgl\",\"colorbar\":{\"outlinewidth\":0,\"ticks\":\"\"},\"colorscale\":[[0.0,\"#0d0887\"],[0.1111111111111111,\"#46039f\"],[0.2222222222222222,\"#7201a8\"],[0.3333333333333333,\"#9c179e\"],[0.4444444444444444,\"#bd3786\"],[0.5555555555555556,\"#d8576b\"],[0.6666666666666666,\"#ed7953\"],[0.7777777777777778,\"#fb9f3a\"],[0.8888888888888888,\"#fdca26\"],[1.0,\"#f0f921\"]]}],\"contourcarpet\":[{\"type\":\"contourcarpet\",\"colorbar\":{\"outlinewidth\":0,\"ticks\":\"\"}}],\"contour\":[{\"type\":\"contour\",\"colorbar\":{\"outlinewidth\":0,\"ticks\":\"\"},\"colorscale\":[[0.0,\"#0d0887\"],[0.1111111111111111,\"#46039f\"],[0.2222222222222222,\"#7201a8\"],[0.3333333333333333,\"#9c179e\"],[0.4444444444444444,\"#bd3786\"],[0.5555555555555556,\"#d8576b\"],[0.6666666666666666,\"#ed7953\"],[0.7777777777777778,\"#fb9f3a\"],[0.8888888888888888,\"#fdca26\"],[1.0,\"#f0f921\"]]}],\"surface\":[{\"type\":\"surface\",\"colorbar\":{\"outlinewidth\":0,\"ticks\":\"\"},\"colorscale\":[[0.0,\"#0d0887\"],[0.1111111111111111,\"#46039f\"],[0.2222222222222222,\"#7201a8\"],[0.3333333333333333,\"#9c179e\"],[0.4444444444444444,\"#bd3786\"],[0.5555555555555556,\"#d8576b\"],[0.6666666666666666,\"#ed7953\"],[0.7777777777777778,\"#fb9f3a\"],[0.8888888888888888,\"#fdca26\"],[1.0,\"#f0f921\"]]}],\"mesh3d\":[{\"type\":\"mesh3d\",\"colorbar\":{\"outlinewidth\":0,\"ticks\":\"\"}}],\"scatter\":[{\"fillpattern\":{\"fillmode\":\"overlay\",\"size\":10,\"solidity\":0.2},\"type\":\"scatter\"}],\"parcoords\":[{\"type\":\"parcoords\",\"line\":{\"colorbar\":{\"outlinewidth\":0,\"ticks\":\"\"}}}],\"scatterpolargl\":[{\"type\":\"scatterpolargl\",\"marker\":{\"colorbar\":{\"outlinewidth\":0,\"ticks\":\"\"}}}],\"bar\":[{\"error_x\":{\"color\":\"#2a3f5f\"},\"error_y\":{\"color\":\"#2a3f5f\"},\"marker\":{\"line\":{\"color\":\"#E5ECF6\",\"width\":0.5},\"pattern\":{\"fillmode\":\"overlay\",\"size\":10,\"solidity\":0.2}},\"type\":\"bar\"}],\"scattergeo\":[{\"type\":\"scattergeo\",\"marker\":{\"colorbar\":{\"outlinewidth\":0,\"ticks\":\"\"}}}],\"scatterpolar\":[{\"type\":\"scatterpolar\",\"marker\":{\"colorbar\":{\"outlinewidth\":0,\"ticks\":\"\"}}}],\"histogram\":[{\"marker\":{\"pattern\":{\"fillmode\":\"overlay\",\"size\":10,\"solidity\":0.2}},\"type\":\"histogram\"}],\"scattergl\":[{\"type\":\"scattergl\",\"marker\":{\"colorbar\":{\"outlinewidth\":0,\"ticks\":\"\"}}}],\"scatter3d\":[{\"type\":\"scatter3d\",\"line\":{\"colorbar\":{\"outlinewidth\":0,\"ticks\":\"\"}},\"marker\":{\"colorbar\":{\"outlinewidth\":0,\"ticks\":\"\"}}}],\"scattermapbox\":[{\"type\":\"scattermapbox\",\"marker\":{\"colorbar\":{\"outlinewidth\":0,\"ticks\":\"\"}}}],\"scatterternary\":[{\"type\":\"scatterternary\",\"marker\":{\"colorbar\":{\"outlinewidth\":0,\"ticks\":\"\"}}}],\"scattercarpet\":[{\"type\":\"scattercarpet\",\"marker\":{\"colorbar\":{\"outlinewidth\":0,\"ticks\":\"\"}}}],\"carpet\":[{\"aaxis\":{\"endlinecolor\":\"#2a3f5f\",\"gridcolor\":\"white\",\"linecolor\":\"white\",\"minorgridcolor\":\"white\",\"startlinecolor\":\"#2a3f5f\"},\"baxis\":{\"endlinecolor\":\"#2a3f5f\",\"gridcolor\":\"white\",\"linecolor\":\"white\",\"minorgridcolor\":\"white\",\"startlinecolor\":\"#2a3f5f\"},\"type\":\"carpet\"}],\"table\":[{\"cells\":{\"fill\":{\"color\":\"#EBF0F8\"},\"line\":{\"color\":\"white\"}},\"header\":{\"fill\":{\"color\":\"#C8D4E3\"},\"line\":{\"color\":\"white\"}},\"type\":\"table\"}],\"barpolar\":[{\"marker\":{\"line\":{\"color\":\"#E5ECF6\",\"width\":0.5},\"pattern\":{\"fillmode\":\"overlay\",\"size\":10,\"solidity\":0.2}},\"type\":\"barpolar\"}],\"pie\":[{\"automargin\":true,\"type\":\"pie\"}]},\"layout\":{\"autotypenumbers\":\"strict\",\"colorway\":[\"#636efa\",\"#EF553B\",\"#00cc96\",\"#ab63fa\",\"#FFA15A\",\"#19d3f3\",\"#FF6692\",\"#B6E880\",\"#FF97FF\",\"#FECB52\"],\"font\":{\"color\":\"#2a3f5f\"},\"hovermode\":\"closest\",\"hoverlabel\":{\"align\":\"left\"},\"paper_bgcolor\":\"white\",\"plot_bgcolor\":\"#E5ECF6\",\"polar\":{\"bgcolor\":\"#E5ECF6\",\"angularaxis\":{\"gridcolor\":\"white\",\"linecolor\":\"white\",\"ticks\":\"\"},\"radialaxis\":{\"gridcolor\":\"white\",\"linecolor\":\"white\",\"ticks\":\"\"}},\"ternary\":{\"bgcolor\":\"#E5ECF6\",\"aaxis\":{\"gridcolor\":\"white\",\"linecolor\":\"white\",\"ticks\":\"\"},\"baxis\":{\"gridcolor\":\"white\",\"linecolor\":\"white\",\"ticks\":\"\"},\"caxis\":{\"gridcolor\":\"white\",\"linecolor\":\"white\",\"ticks\":\"\"}},\"coloraxis\":{\"colorbar\":{\"outlinewidth\":0,\"ticks\":\"\"}},\"colorscale\":{\"sequential\":[[0.0,\"#0d0887\"],[0.1111111111111111,\"#46039f\"],[0.2222222222222222,\"#7201a8\"],[0.3333333333333333,\"#9c179e\"],[0.4444444444444444,\"#bd3786\"],[0.5555555555555556,\"#d8576b\"],[0.6666666666666666,\"#ed7953\"],[0.7777777777777778,\"#fb9f3a\"],[0.8888888888888888,\"#fdca26\"],[1.0,\"#f0f921\"]],\"sequentialminus\":[[0.0,\"#0d0887\"],[0.1111111111111111,\"#46039f\"],[0.2222222222222222,\"#7201a8\"],[0.3333333333333333,\"#9c179e\"],[0.4444444444444444,\"#bd3786\"],[0.5555555555555556,\"#d8576b\"],[0.6666666666666666,\"#ed7953\"],[0.7777777777777778,\"#fb9f3a\"],[0.8888888888888888,\"#fdca26\"],[1.0,\"#f0f921\"]],\"diverging\":[[0,\"#8e0152\"],[0.1,\"#c51b7d\"],[0.2,\"#de77ae\"],[0.3,\"#f1b6da\"],[0.4,\"#fde0ef\"],[0.5,\"#f7f7f7\"],[0.6,\"#e6f5d0\"],[0.7,\"#b8e186\"],[0.8,\"#7fbc41\"],[0.9,\"#4d9221\"],[1,\"#276419\"]]},\"xaxis\":{\"gridcolor\":\"white\",\"linecolor\":\"white\",\"ticks\":\"\",\"title\":{\"standoff\":15},\"zerolinecolor\":\"white\",\"automargin\":true,\"zerolinewidth\":2},\"yaxis\":{\"gridcolor\":\"white\",\"linecolor\":\"white\",\"ticks\":\"\",\"title\":{\"standoff\":15},\"zerolinecolor\":\"white\",\"automargin\":true,\"zerolinewidth\":2},\"scene\":{\"xaxis\":{\"backgroundcolor\":\"#E5ECF6\",\"gridcolor\":\"white\",\"linecolor\":\"white\",\"showbackground\":true,\"ticks\":\"\",\"zerolinecolor\":\"white\",\"gridwidth\":2},\"yaxis\":{\"backgroundcolor\":\"#E5ECF6\",\"gridcolor\":\"white\",\"linecolor\":\"white\",\"showbackground\":true,\"ticks\":\"\",\"zerolinecolor\":\"white\",\"gridwidth\":2},\"zaxis\":{\"backgroundcolor\":\"#E5ECF6\",\"gridcolor\":\"white\",\"linecolor\":\"white\",\"showbackground\":true,\"ticks\":\"\",\"zerolinecolor\":\"white\",\"gridwidth\":2}},\"shapedefaults\":{\"line\":{\"color\":\"#2a3f5f\"}},\"annotationdefaults\":{\"arrowcolor\":\"#2a3f5f\",\"arrowhead\":0,\"arrowwidth\":1},\"geo\":{\"bgcolor\":\"white\",\"landcolor\":\"#E5ECF6\",\"subunitcolor\":\"white\",\"showland\":true,\"showlakes\":true,\"lakecolor\":\"white\"},\"title\":{\"x\":0.05},\"mapbox\":{\"style\":\"light\"}}},\"xaxis\":{\"anchor\":\"y\",\"domain\":[0.0,1.0],\"title\":{\"text\":\"Mol_name\"}},\"yaxis\":{\"anchor\":\"x\",\"domain\":[0.0,1.0],\"title\":{\"text\":\"total\"}},\"legend\":{\"tracegroupgap\":0},\"margin\":{\"t\":60},\"barmode\":\"relative\"},                        {\"responsive\": true}                    ).then(function(){\n                            \nvar gd = document.getElementById('5ba0db21-6528-4c1b-8e50-e6791ef33e6d');\nvar x = new MutationObserver(function (mutations, observer) {{\n        var display = window.getComputedStyle(gd).display;\n        if (!display || display === 'none') {{\n            console.log([gd, 'removed!']);\n            Plotly.purge(gd);\n            observer.disconnect();\n        }}\n}});\n\n// Listen for the removal of the full notebook cells\nvar notebookContainer = gd.closest('#notebook-container');\nif (notebookContainer) {{\n    x.observe(notebookContainer, {childList: true});\n}}\n\n// Listen for the clearing of the current output cell\nvar outputEl = gd.closest('.output');\nif (outputEl) {{\n    x.observe(outputEl, {childList: true});\n}}\n\n                        })                };                });            </script>        </div>"
     },
     "metadata": {},
     "output_type": "display_data"
    }
   ],
   "source": [
    "import plotly.io as pio\n",
    "import plotly.express as px\n",
    "import plotly.offline as py\n",
    "\n",
    "fig = px.bar(p_data, x=\"Mol_name\", y = \"total\")\n",
    "fig.show()\n"
   ],
   "metadata": {
    "collapsed": false
   }
  },
  {
   "cell_type": "markdown",
   "source": [
    "<p> Looks like the molecules are biased on a few molecule names like: <ul>\n",
    "<li> BETA-2-MICROGLOBULIN </li>\n",
    "<li> SPIKE GLYCOPROTEIN </li>\n",
    "<li> CELLULAR TUMOR ANTIGEN P53 </li>\n",
    "</ul>\n",
    "Are the molecules distribuited over several pdb structures or are consentrated in a few pdb oligomeric complexes?\n",
    "</p>"
   ],
   "metadata": {
    "collapsed": false
   }
  },
  {
   "cell_type": "code",
   "execution_count": 21,
   "outputs": [
    {
     "data": {
      "text/plain": "       Pdb  Mol_x_pdb TaxID Scientific_Name Common_Name  Mol_Id\n0     6NCA         20  9606    HOMO SAPIENS       HUMAN       3\n1     4L3C         14  9606    HOMO SAPIENS       HUMAN       2\n2     4L29         14  9606    HOMO SAPIENS       HUMAN       2\n3     3CIQ         12  9606    HOMO SAPIENS       HUMAN       1\n4     6GK3          8  9606    HOMO SAPIENS       HUMAN       1\n...    ...        ...   ...             ...         ...     ...\n1239  7C9V          1  9606    HOMO SAPIENS       HUMAN       6\n1240  6LA6          1  9606    HOMO SAPIENS       HUMAN       6\n1241  6ILM          1  9606    HOMO SAPIENS       HUMAN       6\n1242  6LA7          1  9606    HOMO SAPIENS       HUMAN       6\n1243  7B5F          1  9606    HOMO SAPIENS       HUMAN       6\n\n[1244 rows x 6 columns]",
      "text/html": "<div>\n<style scoped>\n    .dataframe tbody tr th:only-of-type {\n        vertical-align: middle;\n    }\n\n    .dataframe tbody tr th {\n        vertical-align: top;\n    }\n\n    .dataframe thead th {\n        text-align: right;\n    }\n</style>\n<table border=\"1\" class=\"dataframe\">\n  <thead>\n    <tr style=\"text-align: right;\">\n      <th></th>\n      <th>Pdb</th>\n      <th>Mol_x_pdb</th>\n      <th>TaxID</th>\n      <th>Scientific_Name</th>\n      <th>Common_Name</th>\n      <th>Mol_Id</th>\n    </tr>\n  </thead>\n  <tbody>\n    <tr>\n      <th>0</th>\n      <td>6NCA</td>\n      <td>20</td>\n      <td>9606</td>\n      <td>HOMO SAPIENS</td>\n      <td>HUMAN</td>\n      <td>3</td>\n    </tr>\n    <tr>\n      <th>1</th>\n      <td>4L3C</td>\n      <td>14</td>\n      <td>9606</td>\n      <td>HOMO SAPIENS</td>\n      <td>HUMAN</td>\n      <td>2</td>\n    </tr>\n    <tr>\n      <th>2</th>\n      <td>4L29</td>\n      <td>14</td>\n      <td>9606</td>\n      <td>HOMO SAPIENS</td>\n      <td>HUMAN</td>\n      <td>2</td>\n    </tr>\n    <tr>\n      <th>3</th>\n      <td>3CIQ</td>\n      <td>12</td>\n      <td>9606</td>\n      <td>HOMO SAPIENS</td>\n      <td>HUMAN</td>\n      <td>1</td>\n    </tr>\n    <tr>\n      <th>4</th>\n      <td>6GK3</td>\n      <td>8</td>\n      <td>9606</td>\n      <td>HOMO SAPIENS</td>\n      <td>HUMAN</td>\n      <td>1</td>\n    </tr>\n    <tr>\n      <th>...</th>\n      <td>...</td>\n      <td>...</td>\n      <td>...</td>\n      <td>...</td>\n      <td>...</td>\n      <td>...</td>\n    </tr>\n    <tr>\n      <th>1239</th>\n      <td>7C9V</td>\n      <td>1</td>\n      <td>9606</td>\n      <td>HOMO SAPIENS</td>\n      <td>HUMAN</td>\n      <td>6</td>\n    </tr>\n    <tr>\n      <th>1240</th>\n      <td>6LA6</td>\n      <td>1</td>\n      <td>9606</td>\n      <td>HOMO SAPIENS</td>\n      <td>HUMAN</td>\n      <td>6</td>\n    </tr>\n    <tr>\n      <th>1241</th>\n      <td>6ILM</td>\n      <td>1</td>\n      <td>9606</td>\n      <td>HOMO SAPIENS</td>\n      <td>HUMAN</td>\n      <td>6</td>\n    </tr>\n    <tr>\n      <th>1242</th>\n      <td>6LA7</td>\n      <td>1</td>\n      <td>9606</td>\n      <td>HOMO SAPIENS</td>\n      <td>HUMAN</td>\n      <td>6</td>\n    </tr>\n    <tr>\n      <th>1243</th>\n      <td>7B5F</td>\n      <td>1</td>\n      <td>9606</td>\n      <td>HOMO SAPIENS</td>\n      <td>HUMAN</td>\n      <td>6</td>\n    </tr>\n  </tbody>\n</table>\n<p>1244 rows × 6 columns</p>\n</div>"
     },
     "execution_count": 21,
     "metadata": {},
     "output_type": "execute_result"
    }
   ],
   "source": [
    "sql = \"\"\"SELECT Pdb, count(Pdb) as Mol_x_pdb,\n",
    "max(Organism_TaxID) as TaxID,\n",
    "max(Organism_Scientific) as Scientific_Name,\n",
    "max(Organism_common) as Common_Name,\n",
    "min(PDB_Mol_Id) as Mol_Id\n",
    "FROM epitope_analyzer.PDB_Mol_Info\n",
    "WHERE Mol_Name = 'BETA-2-MICROGLOBULIN'\n",
    "GROUP BY Pdb\n",
    "ORDER BY Mol_x_Pdb DESC;\"\"\"\n",
    "data, titles = db.getDataFromAQuerry_descrip(sql)\n",
    "p_data = pd.DataFrame( data, columns=titles)\n",
    "p_data"
   ],
   "metadata": {
    "collapsed": false
   }
  },
  {
   "cell_type": "markdown",
   "source": [
    "<p> Beta 2 microglobulin is present in 1244 different pdb files </p>"
   ],
   "metadata": {
    "collapsed": false
   }
  },
  {
   "cell_type": "code",
   "execution_count": 22,
   "outputs": [
    {
     "data": {
      "text/plain": "      Pdb  Mol_x_pdb    TaxID  \\\n0    7TF2          6  2697049   \n1    5W9I          6  1335626   \n2    7TF4          6  2697049   \n3    7TF1          6  2697049   \n4    7TF5          6  2697049   \n..    ...        ...      ...   \n379  7JN5          1   694009   \n380  7K8M          1  2697049   \n381  7JV2          1  2697049   \n382  7JVA          1  2697049   \n383  2DD8          1   227859   \n\n                                       Scientific_Name Common_Name  Mol_Id  \n0     SEVERE ACUTE RESPIRATORY SYNDROME CORONAVIRUS 2;                   1  \n1    MIDDLE EAST RESPIRATORY SYNDROME-RELATED CORON...                   1  \n2     SEVERE ACUTE RESPIRATORY SYNDROME CORONAVIRUS 2;                   1  \n3     SEVERE ACUTE RESPIRATORY SYNDROME CORONAVIRUS 2;                   1  \n4     SEVERE ACUTE RESPIRATORY SYNDROME CORONAVIRUS 2;                   1  \n..                                                 ...         ...     ...  \n379                             HUMAN SARS CORONAVIRUS    SARS-COV       3  \n380   SEVERE ACUTE RESPIRATORY SYNDROME CORONAVIRUS 2;   2019-NCOV       3  \n381   SEVERE ACUTE RESPIRATORY SYNDROME CORONAVIRUS 2;   2019-NCOV       3  \n382   SEVERE ACUTE RESPIRATORY SYNDROME CORONAVIRUS 2;   2019-NCOV       3  \n383                                   SARS CORONAVIRUS                   3  \n\n[384 rows x 6 columns]",
      "text/html": "<div>\n<style scoped>\n    .dataframe tbody tr th:only-of-type {\n        vertical-align: middle;\n    }\n\n    .dataframe tbody tr th {\n        vertical-align: top;\n    }\n\n    .dataframe thead th {\n        text-align: right;\n    }\n</style>\n<table border=\"1\" class=\"dataframe\">\n  <thead>\n    <tr style=\"text-align: right;\">\n      <th></th>\n      <th>Pdb</th>\n      <th>Mol_x_pdb</th>\n      <th>TaxID</th>\n      <th>Scientific_Name</th>\n      <th>Common_Name</th>\n      <th>Mol_Id</th>\n    </tr>\n  </thead>\n  <tbody>\n    <tr>\n      <th>0</th>\n      <td>7TF2</td>\n      <td>6</td>\n      <td>2697049</td>\n      <td>SEVERE ACUTE RESPIRATORY SYNDROME CORONAVIRUS 2;</td>\n      <td></td>\n      <td>1</td>\n    </tr>\n    <tr>\n      <th>1</th>\n      <td>5W9I</td>\n      <td>6</td>\n      <td>1335626</td>\n      <td>MIDDLE EAST RESPIRATORY SYNDROME-RELATED CORON...</td>\n      <td></td>\n      <td>1</td>\n    </tr>\n    <tr>\n      <th>2</th>\n      <td>7TF4</td>\n      <td>6</td>\n      <td>2697049</td>\n      <td>SEVERE ACUTE RESPIRATORY SYNDROME CORONAVIRUS 2;</td>\n      <td></td>\n      <td>1</td>\n    </tr>\n    <tr>\n      <th>3</th>\n      <td>7TF1</td>\n      <td>6</td>\n      <td>2697049</td>\n      <td>SEVERE ACUTE RESPIRATORY SYNDROME CORONAVIRUS 2;</td>\n      <td></td>\n      <td>1</td>\n    </tr>\n    <tr>\n      <th>4</th>\n      <td>7TF5</td>\n      <td>6</td>\n      <td>2697049</td>\n      <td>SEVERE ACUTE RESPIRATORY SYNDROME CORONAVIRUS 2;</td>\n      <td></td>\n      <td>1</td>\n    </tr>\n    <tr>\n      <th>...</th>\n      <td>...</td>\n      <td>...</td>\n      <td>...</td>\n      <td>...</td>\n      <td>...</td>\n      <td>...</td>\n    </tr>\n    <tr>\n      <th>379</th>\n      <td>7JN5</td>\n      <td>1</td>\n      <td>694009</td>\n      <td>HUMAN SARS CORONAVIRUS</td>\n      <td>SARS-COV</td>\n      <td>3</td>\n    </tr>\n    <tr>\n      <th>380</th>\n      <td>7K8M</td>\n      <td>1</td>\n      <td>2697049</td>\n      <td>SEVERE ACUTE RESPIRATORY SYNDROME CORONAVIRUS 2;</td>\n      <td>2019-NCOV</td>\n      <td>3</td>\n    </tr>\n    <tr>\n      <th>381</th>\n      <td>7JV2</td>\n      <td>1</td>\n      <td>2697049</td>\n      <td>SEVERE ACUTE RESPIRATORY SYNDROME CORONAVIRUS 2;</td>\n      <td>2019-NCOV</td>\n      <td>3</td>\n    </tr>\n    <tr>\n      <th>382</th>\n      <td>7JVA</td>\n      <td>1</td>\n      <td>2697049</td>\n      <td>SEVERE ACUTE RESPIRATORY SYNDROME CORONAVIRUS 2;</td>\n      <td>2019-NCOV</td>\n      <td>3</td>\n    </tr>\n    <tr>\n      <th>383</th>\n      <td>2DD8</td>\n      <td>1</td>\n      <td>227859</td>\n      <td>SARS CORONAVIRUS</td>\n      <td></td>\n      <td>3</td>\n    </tr>\n  </tbody>\n</table>\n<p>384 rows × 6 columns</p>\n</div>"
     },
     "execution_count": 22,
     "metadata": {},
     "output_type": "execute_result"
    }
   ],
   "source": [
    "sql = \"\"\"SELECT Pdb, count(Pdb) as Mol_x_pdb,\n",
    "max(Organism_TaxID) as TaxID,\n",
    "max(Organism_Scientific) as Scientific_Name,\n",
    "max(Organism_common) as Common_Name,\n",
    "min(PDB_Mol_Id) as Mol_Id\n",
    "FROM epitope_analyzer.PDB_Mol_Info\n",
    "WHERE Mol_Name = 'SPIKE GLYCOPROTEIN'\n",
    "GROUP BY Pdb\n",
    "ORDER BY Mol_x_Pdb DESC;\"\"\"\n",
    "data, titles = db.getDataFromAQuerry_descrip(sql)\n",
    "p_data = pd.DataFrame( data, columns=titles)\n",
    "p_data"
   ],
   "metadata": {
    "collapsed": false
   }
  },
  {
   "cell_type": "markdown",
   "source": [
    "<p> SPIKE GLYCOPROTEIN is present in 384 different pdb files </p>"
   ],
   "metadata": {
    "collapsed": false
   }
  },
  {
   "cell_type": "code",
   "execution_count": 23,
   "outputs": [
    {
     "data": {
      "text/plain": "      Pdb  Mol_x_pdb TaxID Scientific_Name Common_Name  Mol_Id\n0    4D1M         12  7955     DANIO RERIO   ZEBRAFISH       1\n1    2H1L         12  9606    HOMO SAPIENS       HUMAN       2\n2    7BWN          8  9606    HOMO SAPIENS       HUMAN       2\n3    4CZ7          6  7955     DANIO RERIO   ZEBRAFISH       1\n4    4D1L          6  7955     DANIO RERIO   ZEBRAFISH       1\n..    ...        ...   ...             ...         ...     ...\n178  6S9Q          1  9606    HOMO SAPIENS       HUMAN       2\n179  6RX2          1  9606    HOMO SAPIENS       HUMAN       2\n180  6RKK          1  9606    HOMO SAPIENS       HUMAN       2\n181  6RWI          1  9606    HOMO SAPIENS       HUMAN       2\n182  1H26          1  9606    HOMO SAPIENS       HUMAN       3\n\n[183 rows x 6 columns]",
      "text/html": "<div>\n<style scoped>\n    .dataframe tbody tr th:only-of-type {\n        vertical-align: middle;\n    }\n\n    .dataframe tbody tr th {\n        vertical-align: top;\n    }\n\n    .dataframe thead th {\n        text-align: right;\n    }\n</style>\n<table border=\"1\" class=\"dataframe\">\n  <thead>\n    <tr style=\"text-align: right;\">\n      <th></th>\n      <th>Pdb</th>\n      <th>Mol_x_pdb</th>\n      <th>TaxID</th>\n      <th>Scientific_Name</th>\n      <th>Common_Name</th>\n      <th>Mol_Id</th>\n    </tr>\n  </thead>\n  <tbody>\n    <tr>\n      <th>0</th>\n      <td>4D1M</td>\n      <td>12</td>\n      <td>7955</td>\n      <td>DANIO RERIO</td>\n      <td>ZEBRAFISH</td>\n      <td>1</td>\n    </tr>\n    <tr>\n      <th>1</th>\n      <td>2H1L</td>\n      <td>12</td>\n      <td>9606</td>\n      <td>HOMO SAPIENS</td>\n      <td>HUMAN</td>\n      <td>2</td>\n    </tr>\n    <tr>\n      <th>2</th>\n      <td>7BWN</td>\n      <td>8</td>\n      <td>9606</td>\n      <td>HOMO SAPIENS</td>\n      <td>HUMAN</td>\n      <td>2</td>\n    </tr>\n    <tr>\n      <th>3</th>\n      <td>4CZ7</td>\n      <td>6</td>\n      <td>7955</td>\n      <td>DANIO RERIO</td>\n      <td>ZEBRAFISH</td>\n      <td>1</td>\n    </tr>\n    <tr>\n      <th>4</th>\n      <td>4D1L</td>\n      <td>6</td>\n      <td>7955</td>\n      <td>DANIO RERIO</td>\n      <td>ZEBRAFISH</td>\n      <td>1</td>\n    </tr>\n    <tr>\n      <th>...</th>\n      <td>...</td>\n      <td>...</td>\n      <td>...</td>\n      <td>...</td>\n      <td>...</td>\n      <td>...</td>\n    </tr>\n    <tr>\n      <th>178</th>\n      <td>6S9Q</td>\n      <td>1</td>\n      <td>9606</td>\n      <td>HOMO SAPIENS</td>\n      <td>HUMAN</td>\n      <td>2</td>\n    </tr>\n    <tr>\n      <th>179</th>\n      <td>6RX2</td>\n      <td>1</td>\n      <td>9606</td>\n      <td>HOMO SAPIENS</td>\n      <td>HUMAN</td>\n      <td>2</td>\n    </tr>\n    <tr>\n      <th>180</th>\n      <td>6RKK</td>\n      <td>1</td>\n      <td>9606</td>\n      <td>HOMO SAPIENS</td>\n      <td>HUMAN</td>\n      <td>2</td>\n    </tr>\n    <tr>\n      <th>181</th>\n      <td>6RWI</td>\n      <td>1</td>\n      <td>9606</td>\n      <td>HOMO SAPIENS</td>\n      <td>HUMAN</td>\n      <td>2</td>\n    </tr>\n    <tr>\n      <th>182</th>\n      <td>1H26</td>\n      <td>1</td>\n      <td>9606</td>\n      <td>HOMO SAPIENS</td>\n      <td>HUMAN</td>\n      <td>3</td>\n    </tr>\n  </tbody>\n</table>\n<p>183 rows × 6 columns</p>\n</div>"
     },
     "execution_count": 23,
     "metadata": {},
     "output_type": "execute_result"
    }
   ],
   "source": [
    "sql = \"\"\"SELECT Pdb, count(Pdb) as Mol_x_pdb,\n",
    "max(Organism_TaxID) as TaxID,\n",
    "max(Organism_Scientific) as Scientific_Name,\n",
    "max(Organism_common) as Common_Name,\n",
    "min(PDB_Mol_Id) as Mol_Id\n",
    "FROM epitope_analyzer.PDB_Mol_Info\n",
    "WHERE Mol_Name = 'CELLULAR TUMOR ANTIGEN P53'\n",
    "GROUP BY Pdb\n",
    "ORDER BY Mol_x_Pdb DESC;\"\"\"\n",
    "data, titles = db.getDataFromAQuerry_descrip(sql)\n",
    "p_data = pd.DataFrame( data, columns=titles)\n",
    "p_data"
   ],
   "metadata": {
    "collapsed": false
   }
  },
  {
   "cell_type": "markdown",
   "source": [
    "<p> CELLULAR TUMOR ANTIGEN P53 is present in 183 different pdb files </p>\n",
    "<p> After the analysis of the 3 main molecules, we observe that the molecules are distributed among several pdb files.\n",
    "<br> We have some exeptions (6NCA, 7TF2, 4D1M) but not enough to changes the distribution of the molecules.</p>\n",
    "\n",
    "<h2> Molecule organism distribution </h2>"
   ],
   "metadata": {
    "collapsed": false
   }
  },
  {
   "cell_type": "code",
   "execution_count": 27,
   "outputs": [
    {
     "data": {
      "text/plain": "     total   TaxID                 Scientific_Name   max(Organism_common)  \\\n0    32396    9606                           HUMAN            MOUSE,HUMAN   \n1     8408   10090      MUS MUSCULUS, HOMO SAPIENS           MOUSE, MOUSE   \n2     1995    9913                      BOS TAURUS                    COW   \n3     1771                       TRYPANOSOMA CRUZI              ZEBRAFISH   \n4     1656  559292  SACCHAROMYCES CEREVISIAE S288C                  YEAST   \n..     ...     ...                             ...                    ...   \n145     24     274            THERMUS THERMOPHILUS                          \n146     24    6100               AEQUOREA VICTORIA              JELLYFISH   \n147     24   10559    BOVINE PAPILLOMAVIRUS TYPE 1                          \n148     24   11786           MURINE LEUKEMIA VIRUS                          \n149     24  413686              BAUHINIA FORFICATA  BRAZILIAN ORCHID-TREE   \n\n                                              Molecule  Mol_Id  \n0    [PYRUVATE DEHYDROGENASE [LIPOAMIDE]] KINASE IS...       1  \n1                       ZV-67 ANTIBODY FAB LIGHT CHAIN       1  \n2    VITAMIN D-DEPENDENT CALCIUM-BINDING PROTEIN, I...       1  \n3                                       ZAP-70 PEPTIDE       1  \n4                          UBIQUITIN-LIKE PROTEIN SMT3       1  \n..                                                 ...     ...  \n145                                             TT0826       1  \n146                      GREEN FLUORESCIENT PROTEIN UV       1  \n147                             REPLICATION PROTEIN E1       1  \n148                                        GAG PROTEIN       1  \n149                                             LECTIN       1  \n\n[150 rows x 6 columns]",
      "text/html": "<div>\n<style scoped>\n    .dataframe tbody tr th:only-of-type {\n        vertical-align: middle;\n    }\n\n    .dataframe tbody tr th {\n        vertical-align: top;\n    }\n\n    .dataframe thead th {\n        text-align: right;\n    }\n</style>\n<table border=\"1\" class=\"dataframe\">\n  <thead>\n    <tr style=\"text-align: right;\">\n      <th></th>\n      <th>total</th>\n      <th>TaxID</th>\n      <th>Scientific_Name</th>\n      <th>max(Organism_common)</th>\n      <th>Molecule</th>\n      <th>Mol_Id</th>\n    </tr>\n  </thead>\n  <tbody>\n    <tr>\n      <th>0</th>\n      <td>32396</td>\n      <td>9606</td>\n      <td>HUMAN</td>\n      <td>MOUSE,HUMAN</td>\n      <td>[PYRUVATE DEHYDROGENASE [LIPOAMIDE]] KINASE IS...</td>\n      <td>1</td>\n    </tr>\n    <tr>\n      <th>1</th>\n      <td>8408</td>\n      <td>10090</td>\n      <td>MUS MUSCULUS, HOMO SAPIENS</td>\n      <td>MOUSE, MOUSE</td>\n      <td>ZV-67 ANTIBODY FAB LIGHT CHAIN</td>\n      <td>1</td>\n    </tr>\n    <tr>\n      <th>2</th>\n      <td>1995</td>\n      <td>9913</td>\n      <td>BOS TAURUS</td>\n      <td>COW</td>\n      <td>VITAMIN D-DEPENDENT CALCIUM-BINDING PROTEIN, I...</td>\n      <td>1</td>\n    </tr>\n    <tr>\n      <th>3</th>\n      <td>1771</td>\n      <td></td>\n      <td>TRYPANOSOMA CRUZI</td>\n      <td>ZEBRAFISH</td>\n      <td>ZAP-70 PEPTIDE</td>\n      <td>1</td>\n    </tr>\n    <tr>\n      <th>4</th>\n      <td>1656</td>\n      <td>559292</td>\n      <td>SACCHAROMYCES CEREVISIAE S288C</td>\n      <td>YEAST</td>\n      <td>UBIQUITIN-LIKE PROTEIN SMT3</td>\n      <td>1</td>\n    </tr>\n    <tr>\n      <th>...</th>\n      <td>...</td>\n      <td>...</td>\n      <td>...</td>\n      <td>...</td>\n      <td>...</td>\n      <td>...</td>\n    </tr>\n    <tr>\n      <th>145</th>\n      <td>24</td>\n      <td>274</td>\n      <td>THERMUS THERMOPHILUS</td>\n      <td></td>\n      <td>TT0826</td>\n      <td>1</td>\n    </tr>\n    <tr>\n      <th>146</th>\n      <td>24</td>\n      <td>6100</td>\n      <td>AEQUOREA VICTORIA</td>\n      <td>JELLYFISH</td>\n      <td>GREEN FLUORESCIENT PROTEIN UV</td>\n      <td>1</td>\n    </tr>\n    <tr>\n      <th>147</th>\n      <td>24</td>\n      <td>10559</td>\n      <td>BOVINE PAPILLOMAVIRUS TYPE 1</td>\n      <td></td>\n      <td>REPLICATION PROTEIN E1</td>\n      <td>1</td>\n    </tr>\n    <tr>\n      <th>148</th>\n      <td>24</td>\n      <td>11786</td>\n      <td>MURINE LEUKEMIA VIRUS</td>\n      <td></td>\n      <td>GAG PROTEIN</td>\n      <td>1</td>\n    </tr>\n    <tr>\n      <th>149</th>\n      <td>24</td>\n      <td>413686</td>\n      <td>BAUHINIA FORFICATA</td>\n      <td>BRAZILIAN ORCHID-TREE</td>\n      <td>LECTIN</td>\n      <td>1</td>\n    </tr>\n  </tbody>\n</table>\n<p>150 rows × 6 columns</p>\n</div>"
     },
     "execution_count": 27,
     "metadata": {},
     "output_type": "execute_result"
    }
   ],
   "source": [
    "sql = \"\"\"SELECT count(Organism_TaxID) as total,\n",
    "Organism_TaxID as TaxID,\n",
    "max(Organism_Scientific) as Scientific_Name,\n",
    "max(Organism_common),\n",
    "max(Mol_Name) as Molecule,\n",
    "min(PDB_Mol_Id) as Mol_Id\n",
    "FROM epitope_analyzer.PDB_Mol_Info\n",
    "GROUP BY TaxID\n",
    "ORDER BY total DESC\n",
    "LIMIT 150;\"\"\"\n",
    "data, titles = db.getDataFromAQuerry_descrip(sql)\n",
    "p_data = pd.DataFrame( data, columns=titles)\n",
    "p_data"
   ],
   "metadata": {
    "collapsed": false
   }
  },
  {
   "cell_type": "code",
   "execution_count": 25,
   "outputs": [
    {
     "data": {
      "application/vnd.plotly.v1+json": {
       "data": [
        {
         "alignmentgroup": "True",
         "hovertemplate": "Scientific_Name=%{x}<br>total=%{y}<extra></extra>",
         "legendgroup": "",
         "marker": {
          "color": "#636efa",
          "pattern": {
           "shape": ""
          }
         },
         "name": "",
         "offsetgroup": "",
         "orientation": "v",
         "showlegend": false,
         "textposition": "auto",
         "x": [
          "HUMAN",
          "MUS MUSCULUS, HOMO SAPIENS",
          "BOS TAURUS",
          "TRYPANOSOMA CRUZI",
          "SACCHAROMYCES CEREVISIAE S288C",
          "SEVERE ACUTE RESPIRATORY SYNDROME CORONAVIRUS 2;",
          "HUMAN IMMUNODEFICIENCY VIRUS TYPE 1",
          "SYNTHETIC CONSTRUCT",
          "OVIS ARIES",
          "THERMOSYNECHOCOCCUS VULCANUS",
          "SUS SCROFA",
          "LLAMA GLAMA",
          "ESCHERICHIA COLI K-12",
          "RATTUS NORVEGICUS",
          "GALLUS GALLUS",
          "MUS MUSCULUS, HOMO SAPIENS",
          "MACACA MULATTA",
          "ORYCTOLAGUS CUNICULUS",
          "SACCHAROMYCES CEREVISIAE",
          "THERMOSYNECHOCOCCUS ELONGATUS BP-1",
          "VICUGNA PACOS",
          "ESCHERICHIA COLI K12",
          "STAPHYLOCOCCUS AUREUS",
          "RHODOPSEUDOMONAS VIRIDIS",
          "BACILLUS ANTHRACIS",
          "ARTOCARPUS INTEGER",
          "PLASMODIUM FALCIPARUM 3D7",
          "PLASMODIUM FALCIPARUM",
          "INFLUENZA A VIRUS (STRAIN A/HONG KONG/1/1968 H3N2);",
          "CALLOSELASMA RHODOSTOMA",
          "INFLUENZA VIRUS TYPE A",
          "CAMELUS DROMEDARIUS",
          "DROSOPHILA MELANOGASTER",
          "MYCOBACTERIUM TUBERCULOSIS H37RV",
          "YARROWIA LIPOLYTICA",
          "MUS MUSCULUS,HOMO SAPIENS",
          "MYCOBACTERIUM TUBERCULOSIS",
          "SYNECHOCYSTIS SP. (STRAIN PCC 6803 / KAZUSA)",
          "PSEUDOMONAS AERUGINOSA PAO1",
          "HEPATITIS C VIRUS HCV",
          "DANIO RERIO",
          "ZAIRE EBOLAVIRUS - MAYINGA (ZAIRE, 1976);",
          "PSEUDOMONAS AERUGINOSA",
          "HEPATITIS B VIRUS",
          "HOMO SAPIENS, SACCHAROMYCES CEREVISIAE S288C",
          "POLIOVIRUS TYPE 1 (STRAIN MAHONEY)",
          "CLOSTRIDIUM DIFFICILE",
          "EBOLA VIRUS",
          "STREPTOMYCES LIVIDANS",
          "RHODOPSEUDOMONAS PALUSTRIS (STRAIN ATCC BAA-98 / CGA009);",
          "HELICOBACTER PYLORI",
          "HUMAN HERPESVIRUS 4 STRAIN B95-8",
          "HOMO SAPIENS, SYNTHETIC CONSTRUCT",
          "ARACHIS HYPOGAEA",
          "SIMIAN VIRUS 40",
          "HUMAN HERPESVIRUS 4",
          "TRYPANOSOMA BRUCEI",
          "SACCHAROMYCES CEREVISIAE S288C, HOMO SAPIENS",
          "STREPTOCOCCUS PYOGENES",
          "HEPATITIS B VIRUS GENOTYPE D SUBTYPE AYW (ISOLATE FRANCE/TIOLLAIS/1979);",
          "XENOPUS LAEVIS",
          "INFLUENZA A VIRUS (A/X-31(H3N2))",
          "TOXOPLASMA GONDII",
          "RICINUS COMMUNIS",
          "PETROMYZON MARINUS",
          "RHODOSPIRILLUM RUBRUM (STRAIN ATCC 11170 / ATH 1.1.1 / DSM 467 / LMG 4362 / NCIMB 8255 / S1);",
          "MIDDLE EAST RESPIRATORY SYNDROME-RELATED CORONAVIRUS;",
          "HUMAN HERPESVIRUS 5",
          "ESCHERICHIA VIRUS T4",
          "VIBRIO CHOLERAE",
          "ESCHERICHIA COLI O157:H7",
          "PLASMODIUM VIVAX SAL-1",
          "SHIGELLA FLEXNERI",
          "YERSINIA PESTIS",
          "STREPTOCOCCUS PNEUMONIAE TIGR4",
          "UNIDENTIFIED INFLUENZA VIRUS",
          "HOMO SAPIENS, MUS MUSCULUS",
          "CLOSTRIDIUM PERFRINGENS",
          "INFLUENZA A VIRUS (STRAIN SWL A/CALIFORNIA/04/2009 H1N1);",
          "BOLETUS EDULIS",
          "PORCINE CIRCOVIRUS 2",
          "CHLAMYDOMONAS REINHARDTII",
          "CANIS LUPUS FAMILIARIS",
          "HEPATITIS B VIRUS SUBTYPE ADYW",
          "SULFOLOBUS SOLFATARICUS",
          "STREPTOCOCCUS SP. GROUP G",
          "NOROVIRUS HU/GII.4/2004/NL",
          "NEISSERIA MENINGITIDIS",
          "ADENO-ASSOCIATED VIRUS 3B",
          "HUMAN POLYOMAVIRUS 9",
          "BORRELIELLA BURGDORFERI",
          "UNKNOWN",
          "BACILLUS PSEUDOFIRMUS OF4",
          "SALMONELLA TYPHIMURIUM (STRAIN LT2 / SGSC1412 / ATCC 700720);",
          "CLOSTRIDIUM BOTULINUM",
          "CAMELIDAE",
          "NORWALK VIRUS",
          "HUMAN RESPIRATORY SYNCYTIAL VIRUS A2",
          "INFLUENZA A VIRUS (A/VIETNAM/1203/2004(H5N1))",
          "HUMAN ENTEROVIRUS D68",
          "HUMAN IMMUNODEFICIENCY VIRUS",
          "ALLOCHROMATIUM TEPIDUM",
          "ZIKA VIRUS (STRAIN MR 766)",
          "PLESIOMONAS SHIGELLOIDES",
          "AQUIFEX AEOLICUS, AQUIFEX AEOLICUS (STRAIN VF5);",
          "LEISHMANIA DONOVANI",
          "VIBRIO CHOLERAE O1",
          "RHODOBACTER SPHAEROIDES",
          "SYNTHETIC CONSTRUCT",
          "DENGUE VIRUS 2",
          "CAMPYLOBACTER JEJUNI SUBSP. JEJUNI SEROTYPE O:23/36;",
          "PLASMODIUM VIVAX",
          "TREPONEMA PALLIDUM",
          "STAPHYLOCOCCUS AUREUS SUBSP. AUREUS MU50",
          "INFLUENZA A VIRUS (STRAIN A/NORTHERN TERRITORY/60/1968 H3N2);",
          "HUMAN ROTAVIRUS A",
          "VIBRIO CHOLERAE SEROTYPE O1 (STRAIN ATCC 39315 / EL TOR INABA N16961);",
          "LACTOBACILLUS CASEI",
          "BACTEROIDES OVATUS",
          "STREPTOCOCCUS PNEUMONIAE",
          "HUMAN HERPESVIRUS 8",
          "CAMPYLOBACTER JEJUNI",
          "CANINE ADENOVIRUS 2",
          "POLIOVIRUS TYPE 3 (STRAINS P3/LEON/37 AND P3/LEON 12A[1]B);",
          "HUMAN METAPNEUMOVIRUS",
          "B-LYMPHOTROPIC POLYOMAVIRUS",
          "TRITICUM AESTIVUM",
          "FOOT-AND-MOUTH DISEASE VIRUS",
          "INFLUENZA A VIRUS (STRAIN A/AICHI/2/1968 H3N2)",
          "ECHOVIRUS E30",
          "INFLUENZA A VIRUS (STRAIN A/BREVIG MISSION/1/1918 H1N1);",
          "VISNA/MAEDI VIRUS EV1 KV1772",
          "COXSACKIEVIRUS B1",
          "PTEROPUS ALECTO",
          "MURINE NOROVIRUS 1",
          "RHODOBACTER SPHAEROIDES F. SP. DENITRIFICANS",
          "ESCHERICHIA PHAGE CBA120",
          "HUMAN RHINOVIRUS 14",
          "HUMAN CORONAVIRUS OC43",
          "SEVERE ACUTE RESPIRATORY SYNDROME CORONAVIRUS 2, TEQUATROVIRUS T4;",
          "INFLUENZA A VIRUS (A/SOLOMON ISLANDS/3/2006(H1N1));",
          "THERMOTHELOMYCES THERMOPHILUS",
          "HUMAN POLIOVIRUS 1",
          "NOROVIRUS HU/GI.7/TCH-060/USA/2003",
          "LASSA VIRUS JOSIAH",
          "THERMUS THERMOPHILUS",
          "AEQUOREA VICTORIA",
          "BOVINE PAPILLOMAVIRUS TYPE 1",
          "MURINE LEUKEMIA VIRUS",
          "BAUHINIA FORFICATA"
         ],
         "xaxis": "x",
         "y": [
          32396,
          8408,
          1995,
          1771,
          1656,
          1288,
          1072,
          1058,
          982,
          914,
          832,
          703,
          587,
          577,
          432,
          393,
          354,
          307,
          305,
          286,
          251,
          238,
          196,
          186,
          178,
          162,
          146,
          145,
          140,
          136,
          135,
          134,
          130,
          127,
          125,
          105,
          98,
          97,
          88,
          88,
          86,
          85,
          84,
          83,
          76,
          73,
          73,
          72,
          70,
          69,
          67,
          66,
          61,
          61,
          59,
          58,
          58,
          57,
          57,
          56,
          56,
          56,
          55,
          54,
          53,
          52,
          52,
          51,
          51,
          50,
          50,
          49,
          49,
          48,
          48,
          47,
          46,
          46,
          46,
          45,
          44,
          44,
          44,
          42,
          42,
          41,
          41,
          41,
          40,
          40,
          39,
          39,
          39,
          38,
          38,
          38,
          37,
          37,
          36,
          36,
          36,
          36,
          36,
          36,
          36,
          36,
          35,
          35,
          34,
          34,
          34,
          33,
          33,
          33,
          32,
          32,
          32,
          32,
          31,
          31,
          31,
          30,
          30,
          30,
          30,
          30,
          30,
          30,
          29,
          29,
          28,
          26,
          26,
          26,
          26,
          25,
          25,
          25,
          25,
          25,
          25,
          25,
          24,
          24,
          24,
          24,
          24,
          24,
          24,
          24
         ],
         "yaxis": "y",
         "type": "bar"
        }
       ],
       "layout": {
        "template": {
         "data": {
          "histogram2dcontour": [
           {
            "type": "histogram2dcontour",
            "colorbar": {
             "outlinewidth": 0,
             "ticks": ""
            },
            "colorscale": [
             [
              0.0,
              "#0d0887"
             ],
             [
              0.1111111111111111,
              "#46039f"
             ],
             [
              0.2222222222222222,
              "#7201a8"
             ],
             [
              0.3333333333333333,
              "#9c179e"
             ],
             [
              0.4444444444444444,
              "#bd3786"
             ],
             [
              0.5555555555555556,
              "#d8576b"
             ],
             [
              0.6666666666666666,
              "#ed7953"
             ],
             [
              0.7777777777777778,
              "#fb9f3a"
             ],
             [
              0.8888888888888888,
              "#fdca26"
             ],
             [
              1.0,
              "#f0f921"
             ]
            ]
           }
          ],
          "choropleth": [
           {
            "type": "choropleth",
            "colorbar": {
             "outlinewidth": 0,
             "ticks": ""
            }
           }
          ],
          "histogram2d": [
           {
            "type": "histogram2d",
            "colorbar": {
             "outlinewidth": 0,
             "ticks": ""
            },
            "colorscale": [
             [
              0.0,
              "#0d0887"
             ],
             [
              0.1111111111111111,
              "#46039f"
             ],
             [
              0.2222222222222222,
              "#7201a8"
             ],
             [
              0.3333333333333333,
              "#9c179e"
             ],
             [
              0.4444444444444444,
              "#bd3786"
             ],
             [
              0.5555555555555556,
              "#d8576b"
             ],
             [
              0.6666666666666666,
              "#ed7953"
             ],
             [
              0.7777777777777778,
              "#fb9f3a"
             ],
             [
              0.8888888888888888,
              "#fdca26"
             ],
             [
              1.0,
              "#f0f921"
             ]
            ]
           }
          ],
          "heatmap": [
           {
            "type": "heatmap",
            "colorbar": {
             "outlinewidth": 0,
             "ticks": ""
            },
            "colorscale": [
             [
              0.0,
              "#0d0887"
             ],
             [
              0.1111111111111111,
              "#46039f"
             ],
             [
              0.2222222222222222,
              "#7201a8"
             ],
             [
              0.3333333333333333,
              "#9c179e"
             ],
             [
              0.4444444444444444,
              "#bd3786"
             ],
             [
              0.5555555555555556,
              "#d8576b"
             ],
             [
              0.6666666666666666,
              "#ed7953"
             ],
             [
              0.7777777777777778,
              "#fb9f3a"
             ],
             [
              0.8888888888888888,
              "#fdca26"
             ],
             [
              1.0,
              "#f0f921"
             ]
            ]
           }
          ],
          "heatmapgl": [
           {
            "type": "heatmapgl",
            "colorbar": {
             "outlinewidth": 0,
             "ticks": ""
            },
            "colorscale": [
             [
              0.0,
              "#0d0887"
             ],
             [
              0.1111111111111111,
              "#46039f"
             ],
             [
              0.2222222222222222,
              "#7201a8"
             ],
             [
              0.3333333333333333,
              "#9c179e"
             ],
             [
              0.4444444444444444,
              "#bd3786"
             ],
             [
              0.5555555555555556,
              "#d8576b"
             ],
             [
              0.6666666666666666,
              "#ed7953"
             ],
             [
              0.7777777777777778,
              "#fb9f3a"
             ],
             [
              0.8888888888888888,
              "#fdca26"
             ],
             [
              1.0,
              "#f0f921"
             ]
            ]
           }
          ],
          "contourcarpet": [
           {
            "type": "contourcarpet",
            "colorbar": {
             "outlinewidth": 0,
             "ticks": ""
            }
           }
          ],
          "contour": [
           {
            "type": "contour",
            "colorbar": {
             "outlinewidth": 0,
             "ticks": ""
            },
            "colorscale": [
             [
              0.0,
              "#0d0887"
             ],
             [
              0.1111111111111111,
              "#46039f"
             ],
             [
              0.2222222222222222,
              "#7201a8"
             ],
             [
              0.3333333333333333,
              "#9c179e"
             ],
             [
              0.4444444444444444,
              "#bd3786"
             ],
             [
              0.5555555555555556,
              "#d8576b"
             ],
             [
              0.6666666666666666,
              "#ed7953"
             ],
             [
              0.7777777777777778,
              "#fb9f3a"
             ],
             [
              0.8888888888888888,
              "#fdca26"
             ],
             [
              1.0,
              "#f0f921"
             ]
            ]
           }
          ],
          "surface": [
           {
            "type": "surface",
            "colorbar": {
             "outlinewidth": 0,
             "ticks": ""
            },
            "colorscale": [
             [
              0.0,
              "#0d0887"
             ],
             [
              0.1111111111111111,
              "#46039f"
             ],
             [
              0.2222222222222222,
              "#7201a8"
             ],
             [
              0.3333333333333333,
              "#9c179e"
             ],
             [
              0.4444444444444444,
              "#bd3786"
             ],
             [
              0.5555555555555556,
              "#d8576b"
             ],
             [
              0.6666666666666666,
              "#ed7953"
             ],
             [
              0.7777777777777778,
              "#fb9f3a"
             ],
             [
              0.8888888888888888,
              "#fdca26"
             ],
             [
              1.0,
              "#f0f921"
             ]
            ]
           }
          ],
          "mesh3d": [
           {
            "type": "mesh3d",
            "colorbar": {
             "outlinewidth": 0,
             "ticks": ""
            }
           }
          ],
          "scatter": [
           {
            "fillpattern": {
             "fillmode": "overlay",
             "size": 10,
             "solidity": 0.2
            },
            "type": "scatter"
           }
          ],
          "parcoords": [
           {
            "type": "parcoords",
            "line": {
             "colorbar": {
              "outlinewidth": 0,
              "ticks": ""
             }
            }
           }
          ],
          "scatterpolargl": [
           {
            "type": "scatterpolargl",
            "marker": {
             "colorbar": {
              "outlinewidth": 0,
              "ticks": ""
             }
            }
           }
          ],
          "bar": [
           {
            "error_x": {
             "color": "#2a3f5f"
            },
            "error_y": {
             "color": "#2a3f5f"
            },
            "marker": {
             "line": {
              "color": "#E5ECF6",
              "width": 0.5
             },
             "pattern": {
              "fillmode": "overlay",
              "size": 10,
              "solidity": 0.2
             }
            },
            "type": "bar"
           }
          ],
          "scattergeo": [
           {
            "type": "scattergeo",
            "marker": {
             "colorbar": {
              "outlinewidth": 0,
              "ticks": ""
             }
            }
           }
          ],
          "scatterpolar": [
           {
            "type": "scatterpolar",
            "marker": {
             "colorbar": {
              "outlinewidth": 0,
              "ticks": ""
             }
            }
           }
          ],
          "histogram": [
           {
            "marker": {
             "pattern": {
              "fillmode": "overlay",
              "size": 10,
              "solidity": 0.2
             }
            },
            "type": "histogram"
           }
          ],
          "scattergl": [
           {
            "type": "scattergl",
            "marker": {
             "colorbar": {
              "outlinewidth": 0,
              "ticks": ""
             }
            }
           }
          ],
          "scatter3d": [
           {
            "type": "scatter3d",
            "line": {
             "colorbar": {
              "outlinewidth": 0,
              "ticks": ""
             }
            },
            "marker": {
             "colorbar": {
              "outlinewidth": 0,
              "ticks": ""
             }
            }
           }
          ],
          "scattermapbox": [
           {
            "type": "scattermapbox",
            "marker": {
             "colorbar": {
              "outlinewidth": 0,
              "ticks": ""
             }
            }
           }
          ],
          "scatterternary": [
           {
            "type": "scatterternary",
            "marker": {
             "colorbar": {
              "outlinewidth": 0,
              "ticks": ""
             }
            }
           }
          ],
          "scattercarpet": [
           {
            "type": "scattercarpet",
            "marker": {
             "colorbar": {
              "outlinewidth": 0,
              "ticks": ""
             }
            }
           }
          ],
          "carpet": [
           {
            "aaxis": {
             "endlinecolor": "#2a3f5f",
             "gridcolor": "white",
             "linecolor": "white",
             "minorgridcolor": "white",
             "startlinecolor": "#2a3f5f"
            },
            "baxis": {
             "endlinecolor": "#2a3f5f",
             "gridcolor": "white",
             "linecolor": "white",
             "minorgridcolor": "white",
             "startlinecolor": "#2a3f5f"
            },
            "type": "carpet"
           }
          ],
          "table": [
           {
            "cells": {
             "fill": {
              "color": "#EBF0F8"
             },
             "line": {
              "color": "white"
             }
            },
            "header": {
             "fill": {
              "color": "#C8D4E3"
             },
             "line": {
              "color": "white"
             }
            },
            "type": "table"
           }
          ],
          "barpolar": [
           {
            "marker": {
             "line": {
              "color": "#E5ECF6",
              "width": 0.5
             },
             "pattern": {
              "fillmode": "overlay",
              "size": 10,
              "solidity": 0.2
             }
            },
            "type": "barpolar"
           }
          ],
          "pie": [
           {
            "automargin": true,
            "type": "pie"
           }
          ]
         },
         "layout": {
          "autotypenumbers": "strict",
          "colorway": [
           "#636efa",
           "#EF553B",
           "#00cc96",
           "#ab63fa",
           "#FFA15A",
           "#19d3f3",
           "#FF6692",
           "#B6E880",
           "#FF97FF",
           "#FECB52"
          ],
          "font": {
           "color": "#2a3f5f"
          },
          "hovermode": "closest",
          "hoverlabel": {
           "align": "left"
          },
          "paper_bgcolor": "white",
          "plot_bgcolor": "#E5ECF6",
          "polar": {
           "bgcolor": "#E5ECF6",
           "angularaxis": {
            "gridcolor": "white",
            "linecolor": "white",
            "ticks": ""
           },
           "radialaxis": {
            "gridcolor": "white",
            "linecolor": "white",
            "ticks": ""
           }
          },
          "ternary": {
           "bgcolor": "#E5ECF6",
           "aaxis": {
            "gridcolor": "white",
            "linecolor": "white",
            "ticks": ""
           },
           "baxis": {
            "gridcolor": "white",
            "linecolor": "white",
            "ticks": ""
           },
           "caxis": {
            "gridcolor": "white",
            "linecolor": "white",
            "ticks": ""
           }
          },
          "coloraxis": {
           "colorbar": {
            "outlinewidth": 0,
            "ticks": ""
           }
          },
          "colorscale": {
           "sequential": [
            [
             0.0,
             "#0d0887"
            ],
            [
             0.1111111111111111,
             "#46039f"
            ],
            [
             0.2222222222222222,
             "#7201a8"
            ],
            [
             0.3333333333333333,
             "#9c179e"
            ],
            [
             0.4444444444444444,
             "#bd3786"
            ],
            [
             0.5555555555555556,
             "#d8576b"
            ],
            [
             0.6666666666666666,
             "#ed7953"
            ],
            [
             0.7777777777777778,
             "#fb9f3a"
            ],
            [
             0.8888888888888888,
             "#fdca26"
            ],
            [
             1.0,
             "#f0f921"
            ]
           ],
           "sequentialminus": [
            [
             0.0,
             "#0d0887"
            ],
            [
             0.1111111111111111,
             "#46039f"
            ],
            [
             0.2222222222222222,
             "#7201a8"
            ],
            [
             0.3333333333333333,
             "#9c179e"
            ],
            [
             0.4444444444444444,
             "#bd3786"
            ],
            [
             0.5555555555555556,
             "#d8576b"
            ],
            [
             0.6666666666666666,
             "#ed7953"
            ],
            [
             0.7777777777777778,
             "#fb9f3a"
            ],
            [
             0.8888888888888888,
             "#fdca26"
            ],
            [
             1.0,
             "#f0f921"
            ]
           ],
           "diverging": [
            [
             0,
             "#8e0152"
            ],
            [
             0.1,
             "#c51b7d"
            ],
            [
             0.2,
             "#de77ae"
            ],
            [
             0.3,
             "#f1b6da"
            ],
            [
             0.4,
             "#fde0ef"
            ],
            [
             0.5,
             "#f7f7f7"
            ],
            [
             0.6,
             "#e6f5d0"
            ],
            [
             0.7,
             "#b8e186"
            ],
            [
             0.8,
             "#7fbc41"
            ],
            [
             0.9,
             "#4d9221"
            ],
            [
             1,
             "#276419"
            ]
           ]
          },
          "xaxis": {
           "gridcolor": "white",
           "linecolor": "white",
           "ticks": "",
           "title": {
            "standoff": 15
           },
           "zerolinecolor": "white",
           "automargin": true,
           "zerolinewidth": 2
          },
          "yaxis": {
           "gridcolor": "white",
           "linecolor": "white",
           "ticks": "",
           "title": {
            "standoff": 15
           },
           "zerolinecolor": "white",
           "automargin": true,
           "zerolinewidth": 2
          },
          "scene": {
           "xaxis": {
            "backgroundcolor": "#E5ECF6",
            "gridcolor": "white",
            "linecolor": "white",
            "showbackground": true,
            "ticks": "",
            "zerolinecolor": "white",
            "gridwidth": 2
           },
           "yaxis": {
            "backgroundcolor": "#E5ECF6",
            "gridcolor": "white",
            "linecolor": "white",
            "showbackground": true,
            "ticks": "",
            "zerolinecolor": "white",
            "gridwidth": 2
           },
           "zaxis": {
            "backgroundcolor": "#E5ECF6",
            "gridcolor": "white",
            "linecolor": "white",
            "showbackground": true,
            "ticks": "",
            "zerolinecolor": "white",
            "gridwidth": 2
           }
          },
          "shapedefaults": {
           "line": {
            "color": "#2a3f5f"
           }
          },
          "annotationdefaults": {
           "arrowcolor": "#2a3f5f",
           "arrowhead": 0,
           "arrowwidth": 1
          },
          "geo": {
           "bgcolor": "white",
           "landcolor": "#E5ECF6",
           "subunitcolor": "white",
           "showland": true,
           "showlakes": true,
           "lakecolor": "white"
          },
          "title": {
           "x": 0.05
          },
          "mapbox": {
           "style": "light"
          }
         }
        },
        "xaxis": {
         "anchor": "y",
         "domain": [
          0.0,
          1.0
         ],
         "title": {
          "text": "Scientific_Name"
         }
        },
        "yaxis": {
         "anchor": "x",
         "domain": [
          0.0,
          1.0
         ],
         "title": {
          "text": "total"
         }
        },
        "legend": {
         "tracegroupgap": 0
        },
        "margin": {
         "t": 60
        },
        "barmode": "relative"
       },
       "config": {
        "plotlyServerURL": "https://plotly.com"
       }
      },
      "text/html": "<div>                            <div id=\"f111c137-6945-41e5-9a83-d73f22a162b9\" class=\"plotly-graph-div\" style=\"height:525px; width:100%;\"></div>            <script type=\"text/javascript\">                require([\"plotly\"], function(Plotly) {                    window.PLOTLYENV=window.PLOTLYENV || {};                                    if (document.getElementById(\"f111c137-6945-41e5-9a83-d73f22a162b9\")) {                    Plotly.newPlot(                        \"f111c137-6945-41e5-9a83-d73f22a162b9\",                        [{\"alignmentgroup\":\"True\",\"hovertemplate\":\"Scientific_Name=%{x}<br>total=%{y}<extra></extra>\",\"legendgroup\":\"\",\"marker\":{\"color\":\"#636efa\",\"pattern\":{\"shape\":\"\"}},\"name\":\"\",\"offsetgroup\":\"\",\"orientation\":\"v\",\"showlegend\":false,\"textposition\":\"auto\",\"x\":[\"HUMAN\",\"MUS MUSCULUS, HOMO SAPIENS\",\"BOS TAURUS\",\"TRYPANOSOMA CRUZI\",\"SACCHAROMYCES CEREVISIAE S288C\",\"SEVERE ACUTE RESPIRATORY SYNDROME CORONAVIRUS 2;\",\"HUMAN IMMUNODEFICIENCY VIRUS TYPE 1\",\"SYNTHETIC CONSTRUCT\",\"OVIS ARIES\",\"THERMOSYNECHOCOCCUS VULCANUS\",\"SUS SCROFA\",\"LLAMA GLAMA\",\"ESCHERICHIA COLI K-12\",\"RATTUS NORVEGICUS\",\"GALLUS GALLUS\",\"MUS MUSCULUS, HOMO SAPIENS\",\"MACACA MULATTA\",\"ORYCTOLAGUS CUNICULUS\",\"SACCHAROMYCES CEREVISIAE\",\"THERMOSYNECHOCOCCUS ELONGATUS BP-1\",\"VICUGNA PACOS\",\"ESCHERICHIA COLI K12\",\"STAPHYLOCOCCUS AUREUS\",\"RHODOPSEUDOMONAS VIRIDIS\",\"BACILLUS ANTHRACIS\",\"ARTOCARPUS INTEGER\",\"PLASMODIUM FALCIPARUM 3D7\",\"PLASMODIUM FALCIPARUM\",\"INFLUENZA A VIRUS (STRAIN A/HONG KONG/1/1968 H3N2);\",\"CALLOSELASMA RHODOSTOMA\",\"INFLUENZA VIRUS TYPE A\",\"CAMELUS DROMEDARIUS\",\"DROSOPHILA MELANOGASTER\",\"MYCOBACTERIUM TUBERCULOSIS H37RV\",\"YARROWIA LIPOLYTICA\",\"MUS MUSCULUS,HOMO SAPIENS\",\"MYCOBACTERIUM TUBERCULOSIS\",\"SYNECHOCYSTIS SP. (STRAIN PCC 6803 / KAZUSA)\",\"PSEUDOMONAS AERUGINOSA PAO1\",\"HEPATITIS C VIRUS HCV\",\"DANIO RERIO\",\"ZAIRE EBOLAVIRUS - MAYINGA (ZAIRE, 1976);\",\"PSEUDOMONAS AERUGINOSA\",\"HEPATITIS B VIRUS\",\"HOMO SAPIENS, SACCHAROMYCES CEREVISIAE S288C\",\"POLIOVIRUS TYPE 1 (STRAIN MAHONEY)\",\"CLOSTRIDIUM DIFFICILE\",\"EBOLA VIRUS\",\"STREPTOMYCES LIVIDANS\",\"RHODOPSEUDOMONAS PALUSTRIS (STRAIN ATCC BAA-98 / CGA009);\",\"HELICOBACTER PYLORI\",\"HUMAN HERPESVIRUS 4 STRAIN B95-8\",\"HOMO SAPIENS, SYNTHETIC CONSTRUCT\",\"ARACHIS HYPOGAEA\",\"SIMIAN VIRUS 40\",\"HUMAN HERPESVIRUS 4\",\"TRYPANOSOMA BRUCEI\",\"SACCHAROMYCES CEREVISIAE S288C, HOMO SAPIENS\",\"STREPTOCOCCUS PYOGENES\",\"HEPATITIS B VIRUS GENOTYPE D SUBTYPE AYW (ISOLATE FRANCE/TIOLLAIS/1979);\",\"XENOPUS LAEVIS\",\"INFLUENZA A VIRUS (A/X-31(H3N2))\",\"TOXOPLASMA GONDII\",\"RICINUS COMMUNIS\",\"PETROMYZON MARINUS\",\"RHODOSPIRILLUM RUBRUM (STRAIN ATCC 11170 / ATH 1.1.1 / DSM 467 / LMG 4362 / NCIMB 8255 / S1);\",\"MIDDLE EAST RESPIRATORY SYNDROME-RELATED CORONAVIRUS;\",\"HUMAN HERPESVIRUS 5\",\"ESCHERICHIA VIRUS T4\",\"VIBRIO CHOLERAE\",\"ESCHERICHIA COLI O157:H7\",\"PLASMODIUM VIVAX SAL-1\",\"SHIGELLA FLEXNERI\",\"YERSINIA PESTIS\",\"STREPTOCOCCUS PNEUMONIAE TIGR4\",\"UNIDENTIFIED INFLUENZA VIRUS\",\"HOMO SAPIENS, MUS MUSCULUS\",\"CLOSTRIDIUM PERFRINGENS\",\"INFLUENZA A VIRUS (STRAIN SWL A/CALIFORNIA/04/2009 H1N1);\",\"BOLETUS EDULIS\",\"PORCINE CIRCOVIRUS 2\",\"CHLAMYDOMONAS REINHARDTII\",\"CANIS LUPUS FAMILIARIS\",\"HEPATITIS B VIRUS SUBTYPE ADYW\",\"SULFOLOBUS SOLFATARICUS\",\"STREPTOCOCCUS SP. GROUP G\",\"NOROVIRUS HU/GII.4/2004/NL\",\"NEISSERIA MENINGITIDIS\",\"ADENO-ASSOCIATED VIRUS 3B\",\"HUMAN POLYOMAVIRUS 9\",\"BORRELIELLA BURGDORFERI\",\"UNKNOWN\",\"BACILLUS PSEUDOFIRMUS OF4\",\"SALMONELLA TYPHIMURIUM (STRAIN LT2 / SGSC1412 / ATCC 700720);\",\"CLOSTRIDIUM BOTULINUM\",\"CAMELIDAE\",\"NORWALK VIRUS\",\"HUMAN RESPIRATORY SYNCYTIAL VIRUS A2\",\"INFLUENZA A VIRUS (A/VIETNAM/1203/2004(H5N1))\",\"HUMAN ENTEROVIRUS D68\",\"HUMAN IMMUNODEFICIENCY VIRUS\",\"ALLOCHROMATIUM TEPIDUM\",\"ZIKA VIRUS (STRAIN MR 766)\",\"PLESIOMONAS SHIGELLOIDES\",\"AQUIFEX AEOLICUS, AQUIFEX AEOLICUS (STRAIN VF5);\",\"LEISHMANIA DONOVANI\",\"VIBRIO CHOLERAE O1\",\"RHODOBACTER SPHAEROIDES\",\"SYNTHETIC CONSTRUCT\",\"DENGUE VIRUS 2\",\"CAMPYLOBACTER JEJUNI SUBSP. JEJUNI SEROTYPE O:23/36;\",\"PLASMODIUM VIVAX\",\"TREPONEMA PALLIDUM\",\"STAPHYLOCOCCUS AUREUS SUBSP. AUREUS MU50\",\"INFLUENZA A VIRUS (STRAIN A/NORTHERN TERRITORY/60/1968 H3N2);\",\"HUMAN ROTAVIRUS A\",\"VIBRIO CHOLERAE SEROTYPE O1 (STRAIN ATCC 39315 / EL TOR INABA N16961);\",\"LACTOBACILLUS CASEI\",\"BACTEROIDES OVATUS\",\"STREPTOCOCCUS PNEUMONIAE\",\"HUMAN HERPESVIRUS 8\",\"CAMPYLOBACTER JEJUNI\",\"CANINE ADENOVIRUS 2\",\"POLIOVIRUS TYPE 3 (STRAINS P3/LEON/37 AND P3/LEON 12A[1]B);\",\"HUMAN METAPNEUMOVIRUS\",\"B-LYMPHOTROPIC POLYOMAVIRUS\",\"TRITICUM AESTIVUM\",\"FOOT-AND-MOUTH DISEASE VIRUS\",\"INFLUENZA A VIRUS (STRAIN A/AICHI/2/1968 H3N2)\",\"ECHOVIRUS E30\",\"INFLUENZA A VIRUS (STRAIN A/BREVIG MISSION/1/1918 H1N1);\",\"VISNA/MAEDI VIRUS EV1 KV1772\",\"COXSACKIEVIRUS B1\",\"PTEROPUS ALECTO\",\"MURINE NOROVIRUS 1\",\"RHODOBACTER SPHAEROIDES F. SP. DENITRIFICANS\",\"ESCHERICHIA PHAGE CBA120\",\"HUMAN RHINOVIRUS 14\",\"HUMAN CORONAVIRUS OC43\",\"SEVERE ACUTE RESPIRATORY SYNDROME CORONAVIRUS 2, TEQUATROVIRUS T4;\",\"INFLUENZA A VIRUS (A/SOLOMON ISLANDS/3/2006(H1N1));\",\"THERMOTHELOMYCES THERMOPHILUS\",\"HUMAN POLIOVIRUS 1\",\"NOROVIRUS HU/GI.7/TCH-060/USA/2003\",\"LASSA VIRUS JOSIAH\",\"THERMUS THERMOPHILUS\",\"AEQUOREA VICTORIA\",\"BOVINE PAPILLOMAVIRUS TYPE 1\",\"MURINE LEUKEMIA VIRUS\",\"BAUHINIA FORFICATA\"],\"xaxis\":\"x\",\"y\":[32396,8408,1995,1771,1656,1288,1072,1058,982,914,832,703,587,577,432,393,354,307,305,286,251,238,196,186,178,162,146,145,140,136,135,134,130,127,125,105,98,97,88,88,86,85,84,83,76,73,73,72,70,69,67,66,61,61,59,58,58,57,57,56,56,56,55,54,53,52,52,51,51,50,50,49,49,48,48,47,46,46,46,45,44,44,44,42,42,41,41,41,40,40,39,39,39,38,38,38,37,37,36,36,36,36,36,36,36,36,35,35,34,34,34,33,33,33,32,32,32,32,31,31,31,30,30,30,30,30,30,30,29,29,28,26,26,26,26,25,25,25,25,25,25,25,24,24,24,24,24,24,24,24],\"yaxis\":\"y\",\"type\":\"bar\"}],                        {\"template\":{\"data\":{\"histogram2dcontour\":[{\"type\":\"histogram2dcontour\",\"colorbar\":{\"outlinewidth\":0,\"ticks\":\"\"},\"colorscale\":[[0.0,\"#0d0887\"],[0.1111111111111111,\"#46039f\"],[0.2222222222222222,\"#7201a8\"],[0.3333333333333333,\"#9c179e\"],[0.4444444444444444,\"#bd3786\"],[0.5555555555555556,\"#d8576b\"],[0.6666666666666666,\"#ed7953\"],[0.7777777777777778,\"#fb9f3a\"],[0.8888888888888888,\"#fdca26\"],[1.0,\"#f0f921\"]]}],\"choropleth\":[{\"type\":\"choropleth\",\"colorbar\":{\"outlinewidth\":0,\"ticks\":\"\"}}],\"histogram2d\":[{\"type\":\"histogram2d\",\"colorbar\":{\"outlinewidth\":0,\"ticks\":\"\"},\"colorscale\":[[0.0,\"#0d0887\"],[0.1111111111111111,\"#46039f\"],[0.2222222222222222,\"#7201a8\"],[0.3333333333333333,\"#9c179e\"],[0.4444444444444444,\"#bd3786\"],[0.5555555555555556,\"#d8576b\"],[0.6666666666666666,\"#ed7953\"],[0.7777777777777778,\"#fb9f3a\"],[0.8888888888888888,\"#fdca26\"],[1.0,\"#f0f921\"]]}],\"heatmap\":[{\"type\":\"heatmap\",\"colorbar\":{\"outlinewidth\":0,\"ticks\":\"\"},\"colorscale\":[[0.0,\"#0d0887\"],[0.1111111111111111,\"#46039f\"],[0.2222222222222222,\"#7201a8\"],[0.3333333333333333,\"#9c179e\"],[0.4444444444444444,\"#bd3786\"],[0.5555555555555556,\"#d8576b\"],[0.6666666666666666,\"#ed7953\"],[0.7777777777777778,\"#fb9f3a\"],[0.8888888888888888,\"#fdca26\"],[1.0,\"#f0f921\"]]}],\"heatmapgl\":[{\"type\":\"heatmapgl\",\"colorbar\":{\"outlinewidth\":0,\"ticks\":\"\"},\"colorscale\":[[0.0,\"#0d0887\"],[0.1111111111111111,\"#46039f\"],[0.2222222222222222,\"#7201a8\"],[0.3333333333333333,\"#9c179e\"],[0.4444444444444444,\"#bd3786\"],[0.5555555555555556,\"#d8576b\"],[0.6666666666666666,\"#ed7953\"],[0.7777777777777778,\"#fb9f3a\"],[0.8888888888888888,\"#fdca26\"],[1.0,\"#f0f921\"]]}],\"contourcarpet\":[{\"type\":\"contourcarpet\",\"colorbar\":{\"outlinewidth\":0,\"ticks\":\"\"}}],\"contour\":[{\"type\":\"contour\",\"colorbar\":{\"outlinewidth\":0,\"ticks\":\"\"},\"colorscale\":[[0.0,\"#0d0887\"],[0.1111111111111111,\"#46039f\"],[0.2222222222222222,\"#7201a8\"],[0.3333333333333333,\"#9c179e\"],[0.4444444444444444,\"#bd3786\"],[0.5555555555555556,\"#d8576b\"],[0.6666666666666666,\"#ed7953\"],[0.7777777777777778,\"#fb9f3a\"],[0.8888888888888888,\"#fdca26\"],[1.0,\"#f0f921\"]]}],\"surface\":[{\"type\":\"surface\",\"colorbar\":{\"outlinewidth\":0,\"ticks\":\"\"},\"colorscale\":[[0.0,\"#0d0887\"],[0.1111111111111111,\"#46039f\"],[0.2222222222222222,\"#7201a8\"],[0.3333333333333333,\"#9c179e\"],[0.4444444444444444,\"#bd3786\"],[0.5555555555555556,\"#d8576b\"],[0.6666666666666666,\"#ed7953\"],[0.7777777777777778,\"#fb9f3a\"],[0.8888888888888888,\"#fdca26\"],[1.0,\"#f0f921\"]]}],\"mesh3d\":[{\"type\":\"mesh3d\",\"colorbar\":{\"outlinewidth\":0,\"ticks\":\"\"}}],\"scatter\":[{\"fillpattern\":{\"fillmode\":\"overlay\",\"size\":10,\"solidity\":0.2},\"type\":\"scatter\"}],\"parcoords\":[{\"type\":\"parcoords\",\"line\":{\"colorbar\":{\"outlinewidth\":0,\"ticks\":\"\"}}}],\"scatterpolargl\":[{\"type\":\"scatterpolargl\",\"marker\":{\"colorbar\":{\"outlinewidth\":0,\"ticks\":\"\"}}}],\"bar\":[{\"error_x\":{\"color\":\"#2a3f5f\"},\"error_y\":{\"color\":\"#2a3f5f\"},\"marker\":{\"line\":{\"color\":\"#E5ECF6\",\"width\":0.5},\"pattern\":{\"fillmode\":\"overlay\",\"size\":10,\"solidity\":0.2}},\"type\":\"bar\"}],\"scattergeo\":[{\"type\":\"scattergeo\",\"marker\":{\"colorbar\":{\"outlinewidth\":0,\"ticks\":\"\"}}}],\"scatterpolar\":[{\"type\":\"scatterpolar\",\"marker\":{\"colorbar\":{\"outlinewidth\":0,\"ticks\":\"\"}}}],\"histogram\":[{\"marker\":{\"pattern\":{\"fillmode\":\"overlay\",\"size\":10,\"solidity\":0.2}},\"type\":\"histogram\"}],\"scattergl\":[{\"type\":\"scattergl\",\"marker\":{\"colorbar\":{\"outlinewidth\":0,\"ticks\":\"\"}}}],\"scatter3d\":[{\"type\":\"scatter3d\",\"line\":{\"colorbar\":{\"outlinewidth\":0,\"ticks\":\"\"}},\"marker\":{\"colorbar\":{\"outlinewidth\":0,\"ticks\":\"\"}}}],\"scattermapbox\":[{\"type\":\"scattermapbox\",\"marker\":{\"colorbar\":{\"outlinewidth\":0,\"ticks\":\"\"}}}],\"scatterternary\":[{\"type\":\"scatterternary\",\"marker\":{\"colorbar\":{\"outlinewidth\":0,\"ticks\":\"\"}}}],\"scattercarpet\":[{\"type\":\"scattercarpet\",\"marker\":{\"colorbar\":{\"outlinewidth\":0,\"ticks\":\"\"}}}],\"carpet\":[{\"aaxis\":{\"endlinecolor\":\"#2a3f5f\",\"gridcolor\":\"white\",\"linecolor\":\"white\",\"minorgridcolor\":\"white\",\"startlinecolor\":\"#2a3f5f\"},\"baxis\":{\"endlinecolor\":\"#2a3f5f\",\"gridcolor\":\"white\",\"linecolor\":\"white\",\"minorgridcolor\":\"white\",\"startlinecolor\":\"#2a3f5f\"},\"type\":\"carpet\"}],\"table\":[{\"cells\":{\"fill\":{\"color\":\"#EBF0F8\"},\"line\":{\"color\":\"white\"}},\"header\":{\"fill\":{\"color\":\"#C8D4E3\"},\"line\":{\"color\":\"white\"}},\"type\":\"table\"}],\"barpolar\":[{\"marker\":{\"line\":{\"color\":\"#E5ECF6\",\"width\":0.5},\"pattern\":{\"fillmode\":\"overlay\",\"size\":10,\"solidity\":0.2}},\"type\":\"barpolar\"}],\"pie\":[{\"automargin\":true,\"type\":\"pie\"}]},\"layout\":{\"autotypenumbers\":\"strict\",\"colorway\":[\"#636efa\",\"#EF553B\",\"#00cc96\",\"#ab63fa\",\"#FFA15A\",\"#19d3f3\",\"#FF6692\",\"#B6E880\",\"#FF97FF\",\"#FECB52\"],\"font\":{\"color\":\"#2a3f5f\"},\"hovermode\":\"closest\",\"hoverlabel\":{\"align\":\"left\"},\"paper_bgcolor\":\"white\",\"plot_bgcolor\":\"#E5ECF6\",\"polar\":{\"bgcolor\":\"#E5ECF6\",\"angularaxis\":{\"gridcolor\":\"white\",\"linecolor\":\"white\",\"ticks\":\"\"},\"radialaxis\":{\"gridcolor\":\"white\",\"linecolor\":\"white\",\"ticks\":\"\"}},\"ternary\":{\"bgcolor\":\"#E5ECF6\",\"aaxis\":{\"gridcolor\":\"white\",\"linecolor\":\"white\",\"ticks\":\"\"},\"baxis\":{\"gridcolor\":\"white\",\"linecolor\":\"white\",\"ticks\":\"\"},\"caxis\":{\"gridcolor\":\"white\",\"linecolor\":\"white\",\"ticks\":\"\"}},\"coloraxis\":{\"colorbar\":{\"outlinewidth\":0,\"ticks\":\"\"}},\"colorscale\":{\"sequential\":[[0.0,\"#0d0887\"],[0.1111111111111111,\"#46039f\"],[0.2222222222222222,\"#7201a8\"],[0.3333333333333333,\"#9c179e\"],[0.4444444444444444,\"#bd3786\"],[0.5555555555555556,\"#d8576b\"],[0.6666666666666666,\"#ed7953\"],[0.7777777777777778,\"#fb9f3a\"],[0.8888888888888888,\"#fdca26\"],[1.0,\"#f0f921\"]],\"sequentialminus\":[[0.0,\"#0d0887\"],[0.1111111111111111,\"#46039f\"],[0.2222222222222222,\"#7201a8\"],[0.3333333333333333,\"#9c179e\"],[0.4444444444444444,\"#bd3786\"],[0.5555555555555556,\"#d8576b\"],[0.6666666666666666,\"#ed7953\"],[0.7777777777777778,\"#fb9f3a\"],[0.8888888888888888,\"#fdca26\"],[1.0,\"#f0f921\"]],\"diverging\":[[0,\"#8e0152\"],[0.1,\"#c51b7d\"],[0.2,\"#de77ae\"],[0.3,\"#f1b6da\"],[0.4,\"#fde0ef\"],[0.5,\"#f7f7f7\"],[0.6,\"#e6f5d0\"],[0.7,\"#b8e186\"],[0.8,\"#7fbc41\"],[0.9,\"#4d9221\"],[1,\"#276419\"]]},\"xaxis\":{\"gridcolor\":\"white\",\"linecolor\":\"white\",\"ticks\":\"\",\"title\":{\"standoff\":15},\"zerolinecolor\":\"white\",\"automargin\":true,\"zerolinewidth\":2},\"yaxis\":{\"gridcolor\":\"white\",\"linecolor\":\"white\",\"ticks\":\"\",\"title\":{\"standoff\":15},\"zerolinecolor\":\"white\",\"automargin\":true,\"zerolinewidth\":2},\"scene\":{\"xaxis\":{\"backgroundcolor\":\"#E5ECF6\",\"gridcolor\":\"white\",\"linecolor\":\"white\",\"showbackground\":true,\"ticks\":\"\",\"zerolinecolor\":\"white\",\"gridwidth\":2},\"yaxis\":{\"backgroundcolor\":\"#E5ECF6\",\"gridcolor\":\"white\",\"linecolor\":\"white\",\"showbackground\":true,\"ticks\":\"\",\"zerolinecolor\":\"white\",\"gridwidth\":2},\"zaxis\":{\"backgroundcolor\":\"#E5ECF6\",\"gridcolor\":\"white\",\"linecolor\":\"white\",\"showbackground\":true,\"ticks\":\"\",\"zerolinecolor\":\"white\",\"gridwidth\":2}},\"shapedefaults\":{\"line\":{\"color\":\"#2a3f5f\"}},\"annotationdefaults\":{\"arrowcolor\":\"#2a3f5f\",\"arrowhead\":0,\"arrowwidth\":1},\"geo\":{\"bgcolor\":\"white\",\"landcolor\":\"#E5ECF6\",\"subunitcolor\":\"white\",\"showland\":true,\"showlakes\":true,\"lakecolor\":\"white\"},\"title\":{\"x\":0.05},\"mapbox\":{\"style\":\"light\"}}},\"xaxis\":{\"anchor\":\"y\",\"domain\":[0.0,1.0],\"title\":{\"text\":\"Scientific_Name\"}},\"yaxis\":{\"anchor\":\"x\",\"domain\":[0.0,1.0],\"title\":{\"text\":\"total\"}},\"legend\":{\"tracegroupgap\":0},\"margin\":{\"t\":60},\"barmode\":\"relative\"},                        {\"responsive\": true}                    ).then(function(){\n                            \nvar gd = document.getElementById('f111c137-6945-41e5-9a83-d73f22a162b9');\nvar x = new MutationObserver(function (mutations, observer) {{\n        var display = window.getComputedStyle(gd).display;\n        if (!display || display === 'none') {{\n            console.log([gd, 'removed!']);\n            Plotly.purge(gd);\n            observer.disconnect();\n        }}\n}});\n\n// Listen for the removal of the full notebook cells\nvar notebookContainer = gd.closest('#notebook-container');\nif (notebookContainer) {{\n    x.observe(notebookContainer, {childList: true});\n}}\n\n// Listen for the clearing of the current output cell\nvar outputEl = gd.closest('.output');\nif (outputEl) {{\n    x.observe(outputEl, {childList: true});\n}}\n\n                        })                };                });            </script>        </div>"
     },
     "metadata": {},
     "output_type": "display_data"
    }
   ],
   "source": [
    "import plotly.io as pio\n",
    "import plotly.express as px\n",
    "import plotly.offline as py\n",
    "\n",
    "fig = px.bar(p_data, x=\"Scientific_Name\", y = \"total\")\n",
    "fig.show()"
   ],
   "metadata": {
    "collapsed": false
   }
  },
  {
   "cell_type": "markdown",
   "source": [
    "<h3> Search by taxonomy id </h3>\n",
    "<p> Return the Molecules that belong to that Taxonomy ID </p>"
   ],
   "metadata": {
    "collapsed": false
   }
  },
  {
   "cell_type": "code",
   "execution_count": 31,
   "outputs": [
    {
     "data": {
      "text/plain": "                             Mol_Name  total\n0      CYTOCHROME C OXIDASE SUBUNIT 1     94\n1      CYTOCHROME C OXIDASE SUBUNIT 2     94\n2      CYTOCHROME C OXIDASE SUBUNIT 3     94\n3    CYTOCHROME C OXIDASE SUBUNIT 6B1     78\n4     CYTOCHROME C OXIDASE SUBUNIT 6C     76\n..                                ...    ...\n198                           F145 VH      1\n199                            B77 VH      1\n200                         RHODOPSIN      1\n201                           F145 VL      1\n202                            B77 VL      1\n\n[203 rows x 2 columns]",
      "text/html": "<div>\n<style scoped>\n    .dataframe tbody tr th:only-of-type {\n        vertical-align: middle;\n    }\n\n    .dataframe tbody tr th {\n        vertical-align: top;\n    }\n\n    .dataframe thead th {\n        text-align: right;\n    }\n</style>\n<table border=\"1\" class=\"dataframe\">\n  <thead>\n    <tr style=\"text-align: right;\">\n      <th></th>\n      <th>Mol_Name</th>\n      <th>total</th>\n    </tr>\n  </thead>\n  <tbody>\n    <tr>\n      <th>0</th>\n      <td>CYTOCHROME C OXIDASE SUBUNIT 1</td>\n      <td>94</td>\n    </tr>\n    <tr>\n      <th>1</th>\n      <td>CYTOCHROME C OXIDASE SUBUNIT 2</td>\n      <td>94</td>\n    </tr>\n    <tr>\n      <th>2</th>\n      <td>CYTOCHROME C OXIDASE SUBUNIT 3</td>\n      <td>94</td>\n    </tr>\n    <tr>\n      <th>3</th>\n      <td>CYTOCHROME C OXIDASE SUBUNIT 6B1</td>\n      <td>78</td>\n    </tr>\n    <tr>\n      <th>4</th>\n      <td>CYTOCHROME C OXIDASE SUBUNIT 6C</td>\n      <td>76</td>\n    </tr>\n    <tr>\n      <th>...</th>\n      <td>...</td>\n      <td>...</td>\n    </tr>\n    <tr>\n      <th>198</th>\n      <td>F145 VH</td>\n      <td>1</td>\n    </tr>\n    <tr>\n      <th>199</th>\n      <td>B77 VH</td>\n      <td>1</td>\n    </tr>\n    <tr>\n      <th>200</th>\n      <td>RHODOPSIN</td>\n      <td>1</td>\n    </tr>\n    <tr>\n      <th>201</th>\n      <td>F145 VL</td>\n      <td>1</td>\n    </tr>\n    <tr>\n      <th>202</th>\n      <td>B77 VL</td>\n      <td>1</td>\n    </tr>\n  </tbody>\n</table>\n<p>203 rows × 2 columns</p>\n</div>"
     },
     "execution_count": 31,
     "metadata": {},
     "output_type": "execute_result"
    }
   ],
   "source": [
    "sql = \"\"\"SELECT Mol_Name, count(Mol_Name) as total\n",
    "FROM epitope_analyzer.PDB_Mol_Info\n",
    "WHERE Organism_TaxID like '%9913%'\n",
    "GROUP BY Mol_Name\n",
    "ORDER BY total DESC;\"\"\"\n",
    "data, titles = db.getDataFromAQuerry_descrip(sql)\n",
    "p_data = pd.DataFrame( data, columns=titles)\n",
    "p_data"
   ],
   "metadata": {
    "collapsed": false
   }
  }
 ],
 "metadata": {
  "kernelspec": {
   "display_name": "Python 3",
   "language": "python",
   "name": "python3"
  },
  "language_info": {
   "codemirror_mode": {
    "name": "ipython",
    "version": 2
   },
   "file_extension": ".py",
   "mimetype": "text/x-python",
   "name": "python",
   "nbconvert_exporter": "python",
   "pygments_lexer": "ipython2",
   "version": "2.7.6"
  }
 },
 "nbformat": 4,
 "nbformat_minor": 0
}
